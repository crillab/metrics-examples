{
 "cells": [
  {
   "cell_type": "markdown",
   "metadata": {
    "pycharm": {
     "name": "#%% md\n"
    }
   },
   "source": [
    "# Loading Experiment Data"
   ]
  },
  {
   "cell_type": "markdown",
   "metadata": {
    "pycharm": {
     "name": "#%% md\n"
    }
   },
   "source": [
    "In this notebook, we start by loading the data collected while running different experiment-wares (in this case, subgraph solvers), and perform some preprocessing on this data to allow its use for further analysis in dedicated notebooks."
   ]
  },
  {
   "cell_type": "markdown",
   "metadata": {
    "pycharm": {
     "name": "#%% md\n"
    }
   },
   "source": [
    "## Imports"
   ]
  },
  {
   "cell_type": "markdown",
   "metadata": {
    "pycharm": {
     "name": "#%% md\n"
    }
   },
   "source": [
    "We first need to import the modules we need to load the data.\n",
    "In particular, we must obviously import *Metrics-Wallet*, which we will use to deal with our data."
   ]
  },
  {
   "cell_type": "code",
   "execution_count": 1,
   "metadata": {
    "ExecuteTime": {
     "end_time": "2021-11-07T17:26:58.851247Z",
     "start_time": "2021-11-07T17:26:58.847902Z"
    },
    "pycharm": {
     "name": "#%%\n"
    }
   },
   "outputs": [],
   "source": [
    "from itertools import product\n",
    "from metrics.wallet import BasicAnalysis"
   ]
  },
  {
   "cell_type": "markdown",
   "metadata": {
    "pycharm": {
     "name": "#%% md\n"
    }
   },
   "source": [
    "## Reading the data"
   ]
  },
  {
   "cell_type": "markdown",
   "metadata": {
    "pycharm": {
     "name": "#%% md\n"
    }
   },
   "source": [
    "The next step is to read the data from the log files produced by our different experiment-wares.\n",
    "This data is described in the file [`scalpel_config.yml`](config/scalpel_config.yml), and automatically parsed by *Metrics-Scalpel* to create a `BasicAnalysis` object."
   ]
  },
  {
   "cell_type": "code",
   "execution_count": 2,
   "metadata": {
    "ExecuteTime": {
     "end_time": "2021-11-07T17:27:53.817744Z",
     "start_time": "2021-11-07T17:27:00.267087Z"
    },
    "pycharm": {
     "name": "#%%\n"
    }
   },
   "outputs": [],
   "source": [
    "analysis = BasicAnalysis(input_file='config/scalpel_config.yml', log_level='WARNING')"
   ]
  },
  {
   "cell_type": "markdown",
   "metadata": {
    "pycharm": {
     "name": "#%% md\n"
    }
   },
   "source": [
    "The `BasicAnalysis` object instantiated above provides elementary and general methods for preprocessing our data before actually analyzing the results (which will require more specific methods as it can be seen in the dedicated notebooks)."
   ]
  },
  {
   "cell_type": "markdown",
   "metadata": {
    "pycharm": {
     "name": "#%% md\n"
    }
   },
   "source": [
    "An important thing to do now is to visualize the collected data, to make sure that everything was properly read.\n",
    "This can be achieved by looking at the data-frame that has been built inside the `BasicAnalysis` object."
   ]
  },
  {
   "cell_type": "code",
   "execution_count": 3,
   "metadata": {
    "pycharm": {
     "name": "#%%\n"
    }
   },
   "outputs": [
    {
     "data": {
      "text/html": [
       "<div>\n",
       "<style scoped>\n",
       "    .dataframe tbody tr th:only-of-type {\n",
       "        vertical-align: middle;\n",
       "    }\n",
       "\n",
       "    .dataframe tbody tr th {\n",
       "        vertical-align: top;\n",
       "    }\n",
       "\n",
       "    .dataframe thead th {\n",
       "        text-align: right;\n",
       "    }\n",
       "</style>\n",
       "<table border=\"1\" class=\"dataframe\">\n",
       "  <thead>\n",
       "    <tr style=\"text-align: right;\">\n",
       "      <th></th>\n",
       "      <th>input</th>\n",
       "      <th>experiment_ware</th>\n",
       "      <th>cpu_time</th>\n",
       "      <th>timeout</th>\n",
       "      <th>success</th>\n",
       "      <th>user_success</th>\n",
       "      <th>missing</th>\n",
       "      <th>consistent_xp</th>\n",
       "      <th>consistent_input</th>\n",
       "      <th>error</th>\n",
       "    </tr>\n",
       "  </thead>\n",
       "  <tbody>\n",
       "    <tr>\n",
       "      <th>0</th>\n",
       "      <td>unknown input #1</td>\n",
       "      <td>LAD</td>\n",
       "      <td>0.001</td>\n",
       "      <td>1000.0</td>\n",
       "      <td>True</td>\n",
       "      <td>True</td>\n",
       "      <td>False</td>\n",
       "      <td>True</td>\n",
       "      <td>True</td>\n",
       "      <td>False</td>\n",
       "    </tr>\n",
       "    <tr>\n",
       "      <th>1</th>\n",
       "      <td>unknown input #1</td>\n",
       "      <td>VF2</td>\n",
       "      <td>0.001</td>\n",
       "      <td>1000.0</td>\n",
       "      <td>True</td>\n",
       "      <td>True</td>\n",
       "      <td>False</td>\n",
       "      <td>True</td>\n",
       "      <td>True</td>\n",
       "      <td>False</td>\n",
       "    </tr>\n",
       "    <tr>\n",
       "      <th>2</th>\n",
       "      <td>unknown input #1</td>\n",
       "      <td>RI</td>\n",
       "      <td>0.001</td>\n",
       "      <td>1000.0</td>\n",
       "      <td>True</td>\n",
       "      <td>True</td>\n",
       "      <td>False</td>\n",
       "      <td>True</td>\n",
       "      <td>True</td>\n",
       "      <td>False</td>\n",
       "    </tr>\n",
       "    <tr>\n",
       "      <th>3</th>\n",
       "      <td>unknown input #1</td>\n",
       "      <td>Glasgow</td>\n",
       "      <td>0.001</td>\n",
       "      <td>1000.0</td>\n",
       "      <td>True</td>\n",
       "      <td>True</td>\n",
       "      <td>False</td>\n",
       "      <td>True</td>\n",
       "      <td>True</td>\n",
       "      <td>False</td>\n",
       "    </tr>\n",
       "    <tr>\n",
       "      <th>4</th>\n",
       "      <td>unknown input #2</td>\n",
       "      <td>LAD</td>\n",
       "      <td>0.001</td>\n",
       "      <td>1000.0</td>\n",
       "      <td>True</td>\n",
       "      <td>True</td>\n",
       "      <td>False</td>\n",
       "      <td>True</td>\n",
       "      <td>True</td>\n",
       "      <td>False</td>\n",
       "    </tr>\n",
       "    <tr>\n",
       "      <th>...</th>\n",
       "      <td>...</td>\n",
       "      <td>...</td>\n",
       "      <td>...</td>\n",
       "      <td>...</td>\n",
       "      <td>...</td>\n",
       "      <td>...</td>\n",
       "      <td>...</td>\n",
       "      <td>...</td>\n",
       "      <td>...</td>\n",
       "      <td>...</td>\n",
       "    </tr>\n",
       "    <tr>\n",
       "      <th>58479</th>\n",
       "      <td>unknown input #14620</td>\n",
       "      <td>Glasgow</td>\n",
       "      <td>0.132</td>\n",
       "      <td>1000.0</td>\n",
       "      <td>True</td>\n",
       "      <td>True</td>\n",
       "      <td>False</td>\n",
       "      <td>True</td>\n",
       "      <td>True</td>\n",
       "      <td>False</td>\n",
       "    </tr>\n",
       "    <tr>\n",
       "      <th>58480</th>\n",
       "      <td>unknown input #14621</td>\n",
       "      <td>LAD</td>\n",
       "      <td>0.004</td>\n",
       "      <td>1000.0</td>\n",
       "      <td>True</td>\n",
       "      <td>True</td>\n",
       "      <td>False</td>\n",
       "      <td>True</td>\n",
       "      <td>True</td>\n",
       "      <td>False</td>\n",
       "    </tr>\n",
       "    <tr>\n",
       "      <th>58481</th>\n",
       "      <td>unknown input #14621</td>\n",
       "      <td>VF2</td>\n",
       "      <td>1.706</td>\n",
       "      <td>1000.0</td>\n",
       "      <td>True</td>\n",
       "      <td>True</td>\n",
       "      <td>False</td>\n",
       "      <td>True</td>\n",
       "      <td>True</td>\n",
       "      <td>False</td>\n",
       "    </tr>\n",
       "    <tr>\n",
       "      <th>58482</th>\n",
       "      <td>unknown input #14621</td>\n",
       "      <td>RI</td>\n",
       "      <td>0.001</td>\n",
       "      <td>1000.0</td>\n",
       "      <td>True</td>\n",
       "      <td>True</td>\n",
       "      <td>False</td>\n",
       "      <td>True</td>\n",
       "      <td>True</td>\n",
       "      <td>False</td>\n",
       "    </tr>\n",
       "    <tr>\n",
       "      <th>58483</th>\n",
       "      <td>unknown input #14621</td>\n",
       "      <td>Glasgow</td>\n",
       "      <td>0.006</td>\n",
       "      <td>1000.0</td>\n",
       "      <td>True</td>\n",
       "      <td>True</td>\n",
       "      <td>False</td>\n",
       "      <td>True</td>\n",
       "      <td>True</td>\n",
       "      <td>False</td>\n",
       "    </tr>\n",
       "  </tbody>\n",
       "</table>\n",
       "<p>58484 rows × 10 columns</p>\n",
       "</div>"
      ],
      "text/plain": [
       "                      input experiment_ware  cpu_time  timeout  success  \\\n",
       "0          unknown input #1             LAD     0.001   1000.0     True   \n",
       "1          unknown input #1             VF2     0.001   1000.0     True   \n",
       "2          unknown input #1              RI     0.001   1000.0     True   \n",
       "3          unknown input #1         Glasgow     0.001   1000.0     True   \n",
       "4          unknown input #2             LAD     0.001   1000.0     True   \n",
       "...                     ...             ...       ...      ...      ...   \n",
       "58479  unknown input #14620         Glasgow     0.132   1000.0     True   \n",
       "58480  unknown input #14621             LAD     0.004   1000.0     True   \n",
       "58481  unknown input #14621             VF2     1.706   1000.0     True   \n",
       "58482  unknown input #14621              RI     0.001   1000.0     True   \n",
       "58483  unknown input #14621         Glasgow     0.006   1000.0     True   \n",
       "\n",
       "       user_success  missing  consistent_xp  consistent_input  error  \n",
       "0              True    False           True              True  False  \n",
       "1              True    False           True              True  False  \n",
       "2              True    False           True              True  False  \n",
       "3              True    False           True              True  False  \n",
       "4              True    False           True              True  False  \n",
       "...             ...      ...            ...               ...    ...  \n",
       "58479          True    False           True              True  False  \n",
       "58480          True    False           True              True  False  \n",
       "58481          True    False           True              True  False  \n",
       "58482          True    False           True              True  False  \n",
       "58483          True    False           True              True  False  \n",
       "\n",
       "[58484 rows x 10 columns]"
      ]
     },
     "execution_count": 3,
     "metadata": {},
     "output_type": "execute_result"
    }
   ],
   "source": [
    "analysis.data_frame"
   ]
  },
  {
   "cell_type": "markdown",
   "metadata": {
    "pycharm": {
     "name": "#%% md\n"
    }
   },
   "source": [
    "## Summary and export of the analysis"
   ]
  },
  {
   "cell_type": "markdown",
   "metadata": {
    "pycharm": {
     "name": "#%% md\n"
    }
   },
   "source": [
    "We can now give a summary of the analysis, that we obtain through the following table."
   ]
  },
  {
   "cell_type": "code",
   "execution_count": 4,
   "metadata": {
    "pycharm": {
     "name": "#%%\n"
    },
    "scrolled": true
   },
   "outputs": [
    {
     "data": {
      "text/html": [
       "<div>\n",
       "<style scoped>\n",
       "    .dataframe tbody tr th:only-of-type {\n",
       "        vertical-align: middle;\n",
       "    }\n",
       "\n",
       "    .dataframe tbody tr th {\n",
       "        vertical-align: top;\n",
       "    }\n",
       "\n",
       "    .dataframe thead th {\n",
       "        text-align: right;\n",
       "    }\n",
       "</style>\n",
       "<table border=\"1\" class=\"dataframe\">\n",
       "  <thead>\n",
       "    <tr style=\"text-align: right;\">\n",
       "      <th></th>\n",
       "      <th>analysis</th>\n",
       "    </tr>\n",
       "  </thead>\n",
       "  <tbody>\n",
       "    <tr>\n",
       "      <th>n_experiment_wares</th>\n",
       "      <td>4</td>\n",
       "    </tr>\n",
       "    <tr>\n",
       "      <th>n_inputs</th>\n",
       "      <td>14621</td>\n",
       "    </tr>\n",
       "    <tr>\n",
       "      <th>n_experiments</th>\n",
       "      <td>58484</td>\n",
       "    </tr>\n",
       "    <tr>\n",
       "      <th>n_missing_xp</th>\n",
       "      <td>0</td>\n",
       "    </tr>\n",
       "    <tr>\n",
       "      <th>n_inconsistent_xp</th>\n",
       "      <td>0</td>\n",
       "    </tr>\n",
       "    <tr>\n",
       "      <th>n_inconsistent_xp_due_to_input</th>\n",
       "      <td>0</td>\n",
       "    </tr>\n",
       "    <tr>\n",
       "      <th>more_info_about_variables</th>\n",
       "      <td>&lt;analysis&gt;.data_frame.describe(include='all')</td>\n",
       "    </tr>\n",
       "  </tbody>\n",
       "</table>\n",
       "</div>"
      ],
      "text/plain": [
       "                                                                     analysis\n",
       "n_experiment_wares                                                          4\n",
       "n_inputs                                                                14621\n",
       "n_experiments                                                           58484\n",
       "n_missing_xp                                                                0\n",
       "n_inconsistent_xp                                                           0\n",
       "n_inconsistent_xp_due_to_input                                              0\n",
       "more_info_about_variables       <analysis>.data_frame.describe(include='all')"
      ]
     },
     "execution_count": 4,
     "metadata": {},
     "output_type": "execute_result"
    }
   ],
   "source": [
    "analysis.description_table()"
   ]
  },
  {
   "cell_type": "markdown",
   "metadata": {
    "pycharm": {
     "name": "#%% md\n"
    }
   },
   "source": [
    "Finally, the analysis is exported, both to share the data to allow the reproducibility of the analysis, and to reuse it in other notebooks dedicated to more specific analyses."
   ]
  },
  {
   "cell_type": "code",
   "execution_count": 5,
   "metadata": {
    "ExecuteTime": {
     "end_time": "2021-11-07T17:31:00.310070Z",
     "start_time": "2021-11-07T17:31:00.293572Z"
    },
    "pycharm": {
     "name": "#%%\n"
    }
   },
   "outputs": [],
   "source": [
    "analysis.export('.cache')"
   ]
  }
 ],
 "metadata": {
  "interpreter": {
   "hash": "31f2aee4e71d21fbe5cf8b01ff0e069b9275f58929596ceb00d14d90e3e16cd6"
  },
  "kernelspec": {
   "display_name": "Python 3 (ipykernel)",
   "language": "python",
   "name": "python3"
  },
  "language_info": {
   "codemirror_mode": {
    "name": "ipython",
    "version": 3
   },
   "file_extension": ".py",
   "mimetype": "text/x-python",
   "name": "python",
   "nbconvert_exporter": "python",
   "pygments_lexer": "ipython3",
   "version": "3.10.1"
  },
  "latex_envs": {
   "LaTeX_envs_menu_present": true,
   "autoclose": false,
   "autocomplete": true,
   "bibliofile": "biblio.bib",
   "cite_by": "apalike",
   "current_citInitial": 1,
   "eqLabelWithNumbers": true,
   "eqNumInitial": 1,
   "hotkeys": {
    "equation": "Ctrl-E",
    "itemize": "Ctrl-I"
   },
   "labels_anchors": false,
   "latex_user_defs": false,
   "report_style_numbering": false,
   "user_envs_cfg": false
  },
  "toc": {
   "base_numbering": 1,
   "nav_menu": {},
   "number_sections": true,
   "sideBar": true,
   "skip_h1_title": false,
   "title_cell": "Table of Contents",
   "title_sidebar": "Contents",
   "toc_cell": false,
   "toc_position": {},
   "toc_section_display": true,
   "toc_window_display": false
  }
 },
 "nbformat": 4,
 "nbformat_minor": 4
}
