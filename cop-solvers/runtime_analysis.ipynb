{
 "cells": [
  {
   "cell_type": "markdown",
   "id": "677a81fe",
   "metadata": {
    "pycharm": {
     "name": "#%% md\n"
    }
   },
   "source": [
    "# Analysis of the Runtime"
   ]
  },
  {
   "cell_type": "markdown",
   "id": "de9948ee",
   "metadata": {
    "pycharm": {
     "name": "#%% md\n"
    }
   },
   "source": [
    "In this notebook, we now analyze the performance of the different experiment-wares in terms of runtime.\n",
    "More precisely, we only compare the experiment-wares based on the time they spent before completing their task (and thus, experiments in which the timeout is reached are considered unsuccessful, whatever their outcome)."
   ]
  },
  {
   "cell_type": "markdown",
   "id": "28056756",
   "metadata": {
    "pycharm": {
     "name": "#%% md\n"
    }
   },
   "source": [
    "## Imports"
   ]
  },
  {
   "cell_type": "markdown",
   "id": "caa448e6",
   "metadata": {
    "pycharm": {
     "name": "#%% md\n"
    }
   },
   "source": [
    "As usual, we start by importing the needed classes and functions from *Metrics-Wallet*."
   ]
  },
  {
   "cell_type": "code",
   "execution_count": 1,
   "id": "3a79d77f",
   "metadata": {
    "pycharm": {
     "name": "#%%\n"
    }
   },
   "outputs": [],
   "source": [
    "from metrics.wallet import BasicAnalysis, DecisionAnalysis, LineType\n",
    "from metrics.wallet import find_best_cpu_time_input"
   ]
  },
  {
   "cell_type": "markdown",
   "id": "4a4ad912",
   "metadata": {
    "pycharm": {
     "name": "#%% md\n"
    }
   },
   "source": [
    "## Loading the data of the experiments"
   ]
  },
  {
   "cell_type": "markdown",
   "id": "cd842c98",
   "metadata": {
    "pycharm": {
     "name": "#%% md\n"
    }
   },
   "source": [
    "In a [dedicated notebook](load_experiments.ipynb), we already read and preprocessed the data collected during our experiments.\n",
    "We can now simply reload the cached `BasicAnalysis` to retrieve it."
   ]
  },
  {
   "cell_type": "code",
   "execution_count": 2,
   "id": "954fcd1b",
   "metadata": {
    "pycharm": {
     "name": "#%%\n"
    }
   },
   "outputs": [],
   "source": [
    "basic_analysis = BasicAnalysis.import_from_file('.cache')"
   ]
  },
  {
   "cell_type": "markdown",
   "id": "921c2dad",
   "metadata": {
    "pycharm": {
     "name": "#%% md\n"
    }
   },
   "source": [
    "Since we now want to perform a more specific analysis, we need to create a `DecisionAnalysis` that will provide methods dedicated to the analysis of the runtime of experiments."
   ]
  },
  {
   "cell_type": "code",
   "execution_count": 3,
   "id": "109625e6",
   "metadata": {
    "pycharm": {
     "name": "#%%\n"
    }
   },
   "outputs": [],
   "source": [
    "analysis = DecisionAnalysis(basic_analysis=basic_analysis)"
   ]
  },
  {
   "cell_type": "markdown",
   "id": "51e6bea1",
   "metadata": {
    "pycharm": {
     "name": "#%% md\n"
    }
   },
   "source": [
    "## Virtual Best Solver"
   ]
  },
  {
   "cell_type": "markdown",
   "id": "ddc50e32",
   "metadata": {
    "pycharm": {
     "name": "#%% md\n"
    }
   },
   "source": [
    "The *Virtual Best Solver* (or VBS) is a solver that does not really exist.\n",
    "Its runtime on a particular input is that of the fastest solver that was run on that input (even though one could define a VBS based on other criteria).\n",
    "If one had an oracle to select the best solver for a particular input, and then run the solver on this input, its runtime would be that of the VBS."
   ]
  },
  {
   "cell_type": "code",
   "execution_count": 4,
   "id": "e1ed634c",
   "metadata": {
    "pycharm": {
     "name": "#%%\n"
    },
    "scrolled": true
   },
   "outputs": [],
   "source": [
    "analysis = analysis.add_virtual_experiment_ware(function=find_best_cpu_time_input, name='VBS')"
   ]
  },
  {
   "cell_type": "markdown",
   "id": "2d421866",
   "metadata": {
    "pycharm": {
     "name": "#%% md\n"
    }
   },
   "source": [
    "We can now compute the contribution of each solver to the VBS."
   ]
  },
  {
   "cell_type": "code",
   "execution_count": 5,
   "id": "cee00cde",
   "metadata": {
    "pycharm": {
     "name": "#%%\n"
    }
   },
   "outputs": [
    {
     "data": {
      "text/html": [
       "<div>\n",
       "<style scoped>\n",
       "    .dataframe tbody tr th:only-of-type {\n",
       "        vertical-align: middle;\n",
       "    }\n",
       "\n",
       "    .dataframe tbody tr th {\n",
       "        vertical-align: top;\n",
       "    }\n",
       "\n",
       "    .dataframe thead th {\n",
       "        text-align: right;\n",
       "    }\n",
       "</style>\n",
       "<table border=\"1\" class=\"dataframe\">\n",
       "  <thead>\n",
       "    <tr style=\"text-align: right;\">\n",
       "      <th></th>\n",
       "      <th>vbew simple</th>\n",
       "      <th>vbew 1s</th>\n",
       "      <th>vbew 10s</th>\n",
       "      <th>contribution</th>\n",
       "    </tr>\n",
       "    <tr>\n",
       "      <th>experiment_ware</th>\n",
       "      <th></th>\n",
       "      <th></th>\n",
       "      <th></th>\n",
       "      <th></th>\n",
       "    </tr>\n",
       "  </thead>\n",
       "  <tbody>\n",
       "    <tr>\n",
       "      <th>$Cosoco$</th>\n",
       "      <td>2101</td>\n",
       "      <td>2054</td>\n",
       "      <td>62</td>\n",
       "      <td>17</td>\n",
       "    </tr>\n",
       "    <tr>\n",
       "      <th>$ACE$</th>\n",
       "      <td>349</td>\n",
       "      <td>326</td>\n",
       "      <td>262</td>\n",
       "      <td>90</td>\n",
       "    </tr>\n",
       "    <tr>\n",
       "      <th>$Choco$</th>\n",
       "      <td>81</td>\n",
       "      <td>67</td>\n",
       "      <td>35</td>\n",
       "      <td>6</td>\n",
       "    </tr>\n",
       "    <tr>\n",
       "      <th>$Sat4j_{default}$</th>\n",
       "      <td>74</td>\n",
       "      <td>64</td>\n",
       "      <td>45</td>\n",
       "      <td>28</td>\n",
       "    </tr>\n",
       "  </tbody>\n",
       "</table>\n",
       "</div>"
      ],
      "text/plain": [
       "                   vbew simple  vbew 1s  vbew 10s  contribution\n",
       "experiment_ware                                                \n",
       "$Cosoco$                  2101     2054        62            17\n",
       "$ACE$                      349      326       262            90\n",
       "$Choco$                     81       67        35             6\n",
       "$Sat4j_{default}$           74       64        45            28"
      ]
     },
     "execution_count": 5,
     "metadata": {},
     "output_type": "execute_result"
    }
   ],
   "source": [
    "analysis.remove_experiment_wares(['VBS'])\\\n",
    "        .contribution_table(deltas=(1, 10))"
   ]
  },
  {
   "cell_type": "markdown",
   "id": "f531527d",
   "metadata": {
    "pycharm": {
     "name": "#%% md\n"
    }
   },
   "source": [
    "Let us describe how to read this table.\n",
    "In the first column, we can see for each solver the number of inputs for which the runtime of the solver is equal to that of the VBS.\n",
    "In the second column (resp. third column), we can see for each solver the number of inputs for which the solver is at least 1 second faster (resp. 10 seconds faster) than any other solver.\n",
    "Finally, in the fourth column, we can see the number of inputs for which this solver is the only one to run until completion (and thus, all other solvers reached the time limit on this input)."
   ]
  },
  {
   "cell_type": "markdown",
   "id": "091ac4a5",
   "metadata": {
    "pycharm": {
     "name": "#%% md\n"
    }
   },
   "source": [
    "## Overview of the results"
   ]
  },
  {
   "cell_type": "markdown",
   "id": "be2c1349",
   "metadata": {
    "pycharm": {
     "name": "#%% md\n"
    }
   },
   "source": [
    "An overview of the results can easily be obtained using a so-called *cactus-plot*, which is a figure that is particularly popular in the SAT or CP communities."
   ]
  },
  {
   "cell_type": "code",
   "execution_count": 6,
   "id": "f8608cd6",
   "metadata": {
    "pycharm": {
     "name": "#%%\n"
    }
   },
   "outputs": [
    {
     "data": {
      "text/plain": [
       "(<Figure size 504x360 with 1 Axes>,\n",
       " <AxesSubplot:title={'center':'Cactus-plot'}, xlabel='Number of solved inputs', ylabel='Time (s)'>)"
      ]
     },
     "execution_count": 6,
     "metadata": {},
     "output_type": "execute_result"
    },
    {
     "data": {
      "image/png": "[encoded data removed]",
      "text/plain": [
       "<Figure size 504x360 with 1 Axes>"
      ]
     },
     "metadata": {
      "needs_background": "light"
     },
     "output_type": "display_data"
    }
   ],
   "source": [
    "analysis.cactus_plot(\n",
    "    cactus_col='cpu_time',\n",
    "    show_marker=False,\n",
    "\n",
    "    title='Cactus-plot',\n",
    "    x_axis_name='Number of solved inputs',\n",
    "    y_axis_name='Time (s)',\n",
    "\n",
    "    color_map={ 'VBS': '#000000' },\n",
    "    style_map={ 'VBS': LineType.DASH_DOT }\n",
    ")"
   ]
  },
  {
   "cell_type": "markdown",
   "id": "131d6ce1",
   "metadata": {
    "pycharm": {
     "name": "#%% md\n"
    }
   },
   "source": [
    "On this plot, we can easily read for each solver the number of inputs on which it can run until completion within a certain time limit.\n",
    "In particular, the more a solver is to the right, the faster it is in general."
   ]
  },
  {
   "cell_type": "markdown",
   "id": "8c6e95bf",
   "metadata": {
    "pycharm": {
     "name": "#%% md\n"
    }
   },
   "source": [
    "The main observation we can make here is that `Sat4j` is much slower than the others."
   ]
  },
  {
   "cell_type": "markdown",
   "id": "d91b2838",
   "metadata": {
    "pycharm": {
     "name": "#%% md\n"
    }
   },
   "source": [
    "Another way to get an overview of the results is to use the *cumulative distribution function* (CDF), which may be seen as a cactus-plot in which the axes have been switched."
   ]
  },
  {
   "cell_type": "code",
   "execution_count": 12,
   "id": "8ce129b0",
   "metadata": {
    "pycharm": {
     "name": "#%%\n"
    },
    "scrolled": false
   },
   "outputs": [
    {
     "data": {
      "text/plain": [
       "(<Figure size 504x360 with 1 Axes>,\n",
       " <AxesSubplot:title={'center':'CDF'}, xlabel='Time (s)', ylabel='Percentage of solved inputs'>)"
      ]
     },
     "execution_count": 12,
     "metadata": {},
     "output_type": "execute_result"
    },
    {
     "data": {
      "image/png": "[encoded data removed]",
      "text/plain": [
       "<Figure size 504x360 with 1 Axes>"
      ]
     },
     "metadata": {
      "needs_background": "light"
     },
     "output_type": "display_data"
    }
   ],
   "source": [
    "analysis.cdf_plot(\n",
    "    cdf_col='cpu_time',\n",
    "    show_marker=False,\n",
    "    normalized=True,\n",
    "\n",
    "    title='CDF',\n",
    "    x_axis_name='Time (s)',\n",
    "    y_axis_name='Percentage of solved inputs',\n",
    "\n",
    "    color_map={ 'VBS': '#000000' },\n",
    "    style_map={ 'VBS': LineType.DASH_DOT }\n",
    ")"
   ]
  },
  {
   "cell_type": "markdown",
   "id": "17a03d2e",
   "metadata": {
    "pycharm": {
     "name": "#%% md\n"
    }
   },
   "source": [
    "The interpretation of this plot is similar to that of a cactus-plot.\n",
    "One of the advantage of this representation is that the order of the lines in the plot is the same as that of the legend, and thus best experiment-wares are on the top.\n",
    "Additionally, it has more connections with the theory of statistics (while cactus-plots are not so meaningful outside the community)."
   ]
  },
  {
   "cell_type": "code",
   "execution_count": 13,
   "id": "a667a2d5",
   "metadata": {},
   "outputs": [
    {
     "data": {
      "text/plain": [
       "(<Figure size 504x360 with 1 Axes>,\n",
       " <AxesSubplot:title={'center':'Performance profile'}, xlabel='Runtime ratio of the solver over the VBS', ylabel='Probability'>)"
      ]
     },
     "execution_count": 13,
     "metadata": {},
     "output_type": "execute_result"
    },
    {
     "data": {
      "image/png": "[encoded data removed]",
      "text/plain": [
       "<Figure size 504x360 with 1 Axes>"
      ]
     },
     "metadata": {
      "needs_background": "light"
     },
     "output_type": "display_data"
    }
   ],
   "source": [
    "analysis.performance_profile(\n",
    "    vbew_name='VBS',\n",
    "    show_marker=False,\n",
    "    normalized=True,\n",
    "\n",
    "    title='Performance profile',\n",
    "    x_axis_name='Runtime ratio of the solver over the VBS',\n",
    "    y_axis_name='Probability',\n",
    "\n",
    "    color_map={ 'VBS': '#000000' },\n",
    "    style_map={ 'VBS': LineType.DASH_DOT }\n",
    ")"
   ]
  },
  {
   "cell_type": "markdown",
   "id": "ce825d3f",
   "metadata": {
    "pycharm": {
     "name": "#%% md\n"
    }
   },
   "source": [
    "Talking about statistics, box-plots can also be used to have an overview of the distribution of the runtime of the different experiment-wares."
   ]
  },
  {
   "cell_type": "code",
   "execution_count": 8,
   "id": "0e174ccd",
   "metadata": {
    "pycharm": {
     "name": "#%%\n"
    }
   },
   "outputs": [
    {
     "data": {
      "text/plain": [
       "(<Figure size 504x360 with 1 Axes>,\n",
       " <AxesSubplot:title={'center':'Box-plots of the runtime'}>)"
      ]
     },
     "execution_count": 8,
     "metadata": {},
     "output_type": "execute_result"
    },
    {
     "data": {
      "image/png": "[encoded data removed]",
      "text/plain": [
       "<Figure size 504x360 with 1 Axes>"
      ]
     },
     "metadata": {
      "needs_background": "light"
     },
     "output_type": "display_data"
    }
   ],
   "source": [
    "analysis.box_plot(\n",
    "    box_by='experiment_ware',\n",
    "    box_col='cpu_time',\n",
    "\n",
    "    title='Box-plots of the runtime',\n",
    "\n",
    "    latex_writing=True\n",
    ")"
   ]
  },
  {
   "cell_type": "markdown",
   "id": "a3ea916a",
   "metadata": {
    "pycharm": {
     "name": "#%% md\n"
    }
   },
   "source": [
    "We can make conclusions similar to that of the cactus and CDF plots above, as all instances solved within the time limit by this solver are outliers: all quartiles are equal to the time limit."
   ]
  },
  {
   "cell_type": "markdown",
   "id": "1d51f8a1",
   "metadata": {
    "pycharm": {
     "name": "#%% md\n"
    }
   },
   "source": [
    "## Pairwise comparisons"
   ]
  },
  {
   "cell_type": "markdown",
   "id": "99745cc5",
   "metadata": {
    "pycharm": {
     "name": "#%% md\n"
    }
   },
   "source": [
    "Now that we have an overview of the results, we can make a pairwise comparison of the experiment-wares, to have a closer look at their behavior.\n",
    "We can do so by drawing so-called *scatter-plots*."
   ]
  },
  {
   "cell_type": "markdown",
   "id": "1f9376a6",
   "metadata": {
    "pycharm": {
     "name": "#%% md\n"
    }
   },
   "source": [
    "First, we need to select two of the experiment-wares among those run during the experiments."
   ]
  },
  {
   "cell_type": "code",
   "execution_count": 9,
   "id": "9e3eaa6f",
   "metadata": {
    "pycharm": {
     "name": "#%%\n"
    }
   },
   "outputs": [],
   "source": [
    "xp_ware_x = '$ACE$'\n",
    "xp_ware_y = '$Sat4j_{default}$'"
   ]
  },
  {
   "cell_type": "markdown",
   "id": "879f2352",
   "metadata": {
    "pycharm": {
     "name": "#%% md\n"
    }
   },
   "source": [
    "Once the experiment-wares have been selected, we can draw a scatter-plot that compares the runtime of both solvers on each input.\n",
    "Here, each point is an input, and the x-axis and y-axis correspond to the runtime of `xp_ware_x` and `xp_ware_y` on this input, respectively."
   ]
  },
  {
   "cell_type": "code",
   "execution_count": 10,
   "id": "3da20e8f",
   "metadata": {
    "pycharm": {
     "name": "#%%\n"
    },
    "scrolled": false
   },
   "outputs": [
    {
     "data": {
      "text/plain": [
       "(<Figure size 504x360 with 1 Axes>,\n",
       " <AxesSubplot:title={'center':'Comparison between $ACE$ and $Sat4j_{default}$'}, xlabel='$ACE$', ylabel='$Sat4j_{default}$'>)"
      ]
     },
     "execution_count": 10,
     "metadata": {},
     "output_type": "execute_result"
    },
    {
     "data": {
      "image/png": "[encoded data removed]",
      "text/plain": [
       "<Figure size 504x360 with 1 Axes>"
      ]
     },
     "metadata": {
      "needs_background": "light"
     },
     "output_type": "display_data"
    }
   ],
   "source": [
    "analysis.scatter_plot(\n",
    "    xp_ware_x,\n",
    "    xp_ware_y,\n",
    "\n",
    "    scatter_col='cpu_time',\n",
    "    title=f'Comparison between {xp_ware_x} and {xp_ware_y}',\n",
    "\n",
    "    x_min=1,\n",
    "    x_max=1200,\n",
    "    y_min=1,\n",
    "    y_max=1200,\n",
    "\n",
    "    logx=True,\n",
    "    logy=True\n",
    ")"
   ]
  },
  {
   "cell_type": "markdown",
   "id": "bdda2966",
   "metadata": {
    "pycharm": {
     "name": "#%% md\n"
    }
   },
   "source": [
    "This scatter plots confirms that `Sat4j` is much slower than `ACE`, as `Sat4j` reaches the time limit much more often than `ACE`, and on other instances `ACE` remains faster."
   ]
  },
  {
   "cell_type": "markdown",
   "id": "cc83c739",
   "metadata": {
    "pycharm": {
     "name": "#%% md\n"
    }
   },
   "source": [
    "While the analysis presented in this template only presents one scatter-plot for demonstration purposes, it may be useful for you to draw more scatter-plots, based on your needs.\n",
    "In fact, all pairwise comparisons between two experiment-wares could be visualized using scatter-plots."
   ]
  }
 ],
 "metadata": {
  "kernelspec": {
   "display_name": "Python 3",
   "language": "python",
   "name": "python3"
  },
  "language_info": {
   "codemirror_mode": {
    "name": "ipython",
    "version": 3
   },
   "file_extension": ".py",
   "mimetype": "text/x-python",
   "name": "python",
   "nbconvert_exporter": "python",
   "pygments_lexer": "ipython3",
   "version": "3.9.9"
  }
 },
 "nbformat": 4,
 "nbformat_minor": 5
}
