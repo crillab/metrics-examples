{
 "cells": [
  {
   "cell_type": "markdown",
   "metadata": {
    "pycharm": {
     "name": "#%% md\n"
    }
   },
   "source": [
    "# Loading Experiment Data"
   ]
  },
  {
   "cell_type": "markdown",
   "metadata": {
    "pycharm": {
     "name": "#%% md\n"
    }
   },
   "source": [
    "In this notebook, we start by loading the data collected while running different experiment-wares (in this case, COP solvers), and perform some preprocessing on this data to allow its use for further analysis in dedicated notebooks."
   ]
  },
  {
   "cell_type": "markdown",
   "metadata": {
    "pycharm": {
     "name": "#%% md\n"
    }
   },
   "source": [
    "## Imports"
   ]
  },
  {
   "cell_type": "markdown",
   "metadata": {
    "pycharm": {
     "name": "#%% md\n"
    }
   },
   "source": [
    "We first need to import the modules we need to load the data.\n",
    "In particular, we must obviously import *Metrics-Wallet*, which we will use to deal with our data."
   ]
  },
  {
   "cell_type": "code",
   "execution_count": 1,
   "metadata": {
    "ExecuteTime": {
     "end_time": "2021-11-07T17:26:58.851247Z",
     "start_time": "2021-11-07T17:26:58.847902Z"
    },
    "pycharm": {
     "name": "#%%\n"
    }
   },
   "outputs": [],
   "source": [
    "from itertools import product\n",
    "from metrics.wallet import BasicAnalysis\n",
    "from pandas import isnull"
   ]
  },
  {
   "cell_type": "markdown",
   "metadata": {
    "pycharm": {
     "name": "#%% md\n"
    }
   },
   "source": [
    "## Reading the data"
   ]
  },
  {
   "cell_type": "markdown",
   "metadata": {
    "pycharm": {
     "name": "#%% md\n"
    }
   },
   "source": [
    "The next step is to read the data from the log files produced by our different experiment-wares.\n",
    "This data is described in the file [`scalpel_config.yml`](config/scalpel_config.yml), and automatically parsed by *Metrics-Scalpel* to create a `BasicAnalysis` object."
   ]
  },
  {
   "cell_type": "code",
   "execution_count": 2,
   "metadata": {
    "ExecuteTime": {
     "end_time": "2021-11-07T17:27:53.817744Z",
     "start_time": "2021-11-07T17:27:00.267087Z"
    },
    "pycharm": {
     "name": "#%%\n"
    }
   },
   "outputs": [],
   "source": [
    "analysis = BasicAnalysis(input_file='config/scalpel_config.yml', log_level='WARNING')"
   ]
  },
  {
   "cell_type": "markdown",
   "metadata": {
    "pycharm": {
     "name": "#%% md\n"
    }
   },
   "source": [
    "The `BasicAnalysis` object instantiated above provides elementary and general methods for preprocessing our data before actually analyzing the results (which will require more specific methods as it can be seen in the dedicated notebooks)."
   ]
  },
  {
   "cell_type": "markdown",
   "metadata": {
    "pycharm": {
     "name": "#%% md\n"
    }
   },
   "source": [
    "An important thing to do now is to visualize the collected data, to make sure that everything was properly read.\n",
    "This can be achieved by looking at the data-frame that has been built inside the `BasicAnalysis` object."
   ]
  },
  {
   "cell_type": "code",
   "execution_count": 3,
   "metadata": {
    "pycharm": {
     "name": "#%%\n"
    }
   },
   "outputs": [
    {
     "data": {
      "text/html": [
       "<div>\n",
       "<style scoped>\n",
       "    .dataframe tbody tr th:only-of-type {\n",
       "        vertical-align: middle;\n",
       "    }\n",
       "\n",
       "    .dataframe tbody tr th {\n",
       "        vertical-align: top;\n",
       "    }\n",
       "\n",
       "    .dataframe thead th {\n",
       "        text-align: right;\n",
       "    }\n",
       "</style>\n",
       "<table border=\"1\" class=\"dataframe\">\n",
       "  <thead>\n",
       "    <tr style=\"text-align: right;\">\n",
       "      <th></th>\n",
       "      <th>input</th>\n",
       "      <th>experiment_ware</th>\n",
       "      <th>cpu_time</th>\n",
       "      <th>track</th>\n",
       "      <th>status</th>\n",
       "      <th>bound_list</th>\n",
       "      <th>timestamp_list</th>\n",
       "      <th>family</th>\n",
       "      <th>cop.way</th>\n",
       "      <th>timeout</th>\n",
       "      <th>success</th>\n",
       "      <th>user_success</th>\n",
       "      <th>missing</th>\n",
       "      <th>consistent_xp</th>\n",
       "      <th>consistent_input</th>\n",
       "      <th>error</th>\n",
       "    </tr>\n",
       "  </thead>\n",
       "  <tbody>\n",
       "    <tr>\n",
       "      <th>0</th>\n",
       "      <td>GolombRuler_a4_s1_GolombRuler_11_a4</td>\n",
       "      <td>choco</td>\n",
       "      <td>300.06500</td>\n",
       "      <td>COP</td>\n",
       "      <td>SATISFIABLE</td>\n",
       "      <td>[108, 98, 96, 93, 92, 89, 87, 86, 85]</td>\n",
       "      <td>[8.35, 8.54, 8.96, 18.68, 51.05, 75.15, 111.95...</td>\n",
       "      <td>GolombRuler</td>\n",
       "      <td>NaN</td>\n",
       "      <td>1200.0</td>\n",
       "      <td>True</td>\n",
       "      <td>True</td>\n",
       "      <td>False</td>\n",
       "      <td>True</td>\n",
       "      <td>True</td>\n",
       "      <td>False</td>\n",
       "    </tr>\n",
       "    <tr>\n",
       "      <th>655</th>\n",
       "      <td>GolombRuler_a4_s1_GolombRuler_11_a4</td>\n",
       "      <td>sat4j+default</td>\n",
       "      <td>920.07900</td>\n",
       "      <td>None</td>\n",
       "      <td>None</td>\n",
       "      <td>None</td>\n",
       "      <td>None</td>\n",
       "      <td>GolombRuler</td>\n",
       "      <td>None</td>\n",
       "      <td>1200.0</td>\n",
       "      <td>True</td>\n",
       "      <td>True</td>\n",
       "      <td>False</td>\n",
       "      <td>True</td>\n",
       "      <td>True</td>\n",
       "      <td>False</td>\n",
       "    </tr>\n",
       "    <tr>\n",
       "      <th>8842</th>\n",
       "      <td>GolombRuler_a4_s1_GolombRuler_11_a4</td>\n",
       "      <td>cosoco</td>\n",
       "      <td>467.94100</td>\n",
       "      <td>None</td>\n",
       "      <td>UNKNOWN</td>\n",
       "      <td>None</td>\n",
       "      <td>None</td>\n",
       "      <td>GolombRuler</td>\n",
       "      <td>None</td>\n",
       "      <td>1200.0</td>\n",
       "      <td>True</td>\n",
       "      <td>True</td>\n",
       "      <td>False</td>\n",
       "      <td>True</td>\n",
       "      <td>True</td>\n",
       "      <td>False</td>\n",
       "    </tr>\n",
       "    <tr>\n",
       "      <th>4256</th>\n",
       "      <td>GolombRuler_a4_s1_GolombRuler_11_a4</td>\n",
       "      <td>ace</td>\n",
       "      <td>900.13300</td>\n",
       "      <td>None</td>\n",
       "      <td>SATISFIABLE</td>\n",
       "      <td>[96, 93, 92, 90, 89, 86, 85, 84, 80, 77, 76, 74]</td>\n",
       "      <td>[2.56, 4.75, 4.93, 7.67, 7.83, 9.05, 12.7, 14....</td>\n",
       "      <td>GolombRuler</td>\n",
       "      <td>min</td>\n",
       "      <td>1200.0</td>\n",
       "      <td>True</td>\n",
       "      <td>True</td>\n",
       "      <td>False</td>\n",
       "      <td>True</td>\n",
       "      <td>True</td>\n",
       "      <td>False</td>\n",
       "    </tr>\n",
       "    <tr>\n",
       "      <th>5445</th>\n",
       "      <td>Rcpsp_m1_j90_Rcpsp_j90_12_10</td>\n",
       "      <td>choco</td>\n",
       "      <td>2.34603</td>\n",
       "      <td>COP</td>\n",
       "      <td>OPTIMUM FOUND</td>\n",
       "      <td>86</td>\n",
       "      <td>2.1</td>\n",
       "      <td>Rcpsp</td>\n",
       "      <td>None</td>\n",
       "      <td>1200.0</td>\n",
       "      <td>True</td>\n",
       "      <td>True</td>\n",
       "      <td>False</td>\n",
       "      <td>True</td>\n",
       "      <td>True</td>\n",
       "      <td>False</td>\n",
       "    </tr>\n",
       "    <tr>\n",
       "      <th>...</th>\n",
       "      <td>...</td>\n",
       "      <td>...</td>\n",
       "      <td>...</td>\n",
       "      <td>...</td>\n",
       "      <td>...</td>\n",
       "      <td>...</td>\n",
       "      <td>...</td>\n",
       "      <td>...</td>\n",
       "      <td>...</td>\n",
       "      <td>...</td>\n",
       "      <td>...</td>\n",
       "      <td>...</td>\n",
       "      <td>...</td>\n",
       "      <td>...</td>\n",
       "      <td>...</td>\n",
       "      <td>...</td>\n",
       "    </tr>\n",
       "    <tr>\n",
       "      <th>16461</th>\n",
       "      <td>MultiKnapsack_weish28</td>\n",
       "      <td>ace</td>\n",
       "      <td>900.14300</td>\n",
       "      <td>None</td>\n",
       "      <td>SATISFIABLE</td>\n",
       "      <td>[0, 52, 142, 224, 294, 538, 854, 883, 914, 986...</td>\n",
       "      <td>[0.4, 0.4, 0.4, 0.4, 0.4, 0.4, 0.4, 0.4, 0.4, ...</td>\n",
       "      <td>MultiKnapsack</td>\n",
       "      <td>max</td>\n",
       "      <td>1200.0</td>\n",
       "      <td>True</td>\n",
       "      <td>True</td>\n",
       "      <td>False</td>\n",
       "      <td>True</td>\n",
       "      <td>True</td>\n",
       "      <td>False</td>\n",
       "    </tr>\n",
       "    <tr>\n",
       "      <th>18543</th>\n",
       "      <td>PseudoBoolean_opt_radar_Pb_radar_30_30_45_050_100</td>\n",
       "      <td>choco</td>\n",
       "      <td>300.03800</td>\n",
       "      <td>COP</td>\n",
       "      <td>SATISFIABLE</td>\n",
       "      <td>[264, 262, 261, 258, 257, 254, 249, 247, 244, ...</td>\n",
       "      <td>[4.19, 4.19, 4.19, 4.19, 7.81, 7.81, 8.75, 8.7...</td>\n",
       "      <td>PseudoBoolean</td>\n",
       "      <td>None</td>\n",
       "      <td>1200.0</td>\n",
       "      <td>True</td>\n",
       "      <td>True</td>\n",
       "      <td>False</td>\n",
       "      <td>True</td>\n",
       "      <td>True</td>\n",
       "      <td>False</td>\n",
       "    </tr>\n",
       "    <tr>\n",
       "      <th>18427</th>\n",
       "      <td>PseudoBoolean_opt_radar_Pb_radar_30_30_45_050_100</td>\n",
       "      <td>sat4j+default</td>\n",
       "      <td>900.15600</td>\n",
       "      <td>None</td>\n",
       "      <td>SATISFIABLE</td>\n",
       "      <td>[176, 113, 73, 50]</td>\n",
       "      <td>None</td>\n",
       "      <td>PseudoBoolean</td>\n",
       "      <td>None</td>\n",
       "      <td>1200.0</td>\n",
       "      <td>True</td>\n",
       "      <td>True</td>\n",
       "      <td>False</td>\n",
       "      <td>True</td>\n",
       "      <td>True</td>\n",
       "      <td>False</td>\n",
       "    </tr>\n",
       "    <tr>\n",
       "      <th>17569</th>\n",
       "      <td>PseudoBoolean_opt_radar_Pb_radar_30_30_45_050_100</td>\n",
       "      <td>cosoco</td>\n",
       "      <td>898.13600</td>\n",
       "      <td>None</td>\n",
       "      <td>SATISFIABLE</td>\n",
       "      <td>[51, 50, 49, 48, 47, 46, 45, 44, 43, 42, 41, 4...</td>\n",
       "      <td>[0.131481, 4.10674, 8.25892, 16.2903, 17.0617,...</td>\n",
       "      <td>PseudoBoolean</td>\n",
       "      <td>None</td>\n",
       "      <td>1200.0</td>\n",
       "      <td>True</td>\n",
       "      <td>True</td>\n",
       "      <td>False</td>\n",
       "      <td>True</td>\n",
       "      <td>True</td>\n",
       "      <td>False</td>\n",
       "    </tr>\n",
       "    <tr>\n",
       "      <th>16774</th>\n",
       "      <td>PseudoBoolean_opt_radar_Pb_radar_30_30_45_050_100</td>\n",
       "      <td>ace</td>\n",
       "      <td>900.21500</td>\n",
       "      <td>None</td>\n",
       "      <td>SATISFIABLE</td>\n",
       "      <td>[233, 230, 227, 226, 224, 223, 222, 220, 217, ...</td>\n",
       "      <td>[4.39, 6.74, 7.39, 7.65, 9.59, 9.61, 9.63, 9.6...</td>\n",
       "      <td>PseudoBoolean</td>\n",
       "      <td>min</td>\n",
       "      <td>1200.0</td>\n",
       "      <td>True</td>\n",
       "      <td>True</td>\n",
       "      <td>False</td>\n",
       "      <td>True</td>\n",
       "      <td>True</td>\n",
       "      <td>False</td>\n",
       "    </tr>\n",
       "  </tbody>\n",
       "</table>\n",
       "<p>19088 rows × 16 columns</p>\n",
       "</div>"
      ],
      "text/plain": [
       "                                                   input experiment_ware  \\\n",
       "0                    GolombRuler_a4_s1_GolombRuler_11_a4           choco   \n",
       "655                  GolombRuler_a4_s1_GolombRuler_11_a4   sat4j+default   \n",
       "8842                 GolombRuler_a4_s1_GolombRuler_11_a4          cosoco   \n",
       "4256                 GolombRuler_a4_s1_GolombRuler_11_a4             ace   \n",
       "5445                        Rcpsp_m1_j90_Rcpsp_j90_12_10           choco   \n",
       "...                                                  ...             ...   \n",
       "16461                              MultiKnapsack_weish28             ace   \n",
       "18543  PseudoBoolean_opt_radar_Pb_radar_30_30_45_050_100           choco   \n",
       "18427  PseudoBoolean_opt_radar_Pb_radar_30_30_45_050_100   sat4j+default   \n",
       "17569  PseudoBoolean_opt_radar_Pb_radar_30_30_45_050_100          cosoco   \n",
       "16774  PseudoBoolean_opt_radar_Pb_radar_30_30_45_050_100             ace   \n",
       "\n",
       "        cpu_time track         status  \\\n",
       "0      300.06500   COP    SATISFIABLE   \n",
       "655    920.07900  None           None   \n",
       "8842   467.94100  None        UNKNOWN   \n",
       "4256   900.13300  None    SATISFIABLE   \n",
       "5445     2.34603   COP  OPTIMUM FOUND   \n",
       "...          ...   ...            ...   \n",
       "16461  900.14300  None    SATISFIABLE   \n",
       "18543  300.03800   COP    SATISFIABLE   \n",
       "18427  900.15600  None    SATISFIABLE   \n",
       "17569  898.13600  None    SATISFIABLE   \n",
       "16774  900.21500  None    SATISFIABLE   \n",
       "\n",
       "                                              bound_list  \\\n",
       "0                  [108, 98, 96, 93, 92, 89, 87, 86, 85]   \n",
       "655                                                 None   \n",
       "8842                                                None   \n",
       "4256    [96, 93, 92, 90, 89, 86, 85, 84, 80, 77, 76, 74]   \n",
       "5445                                                  86   \n",
       "...                                                  ...   \n",
       "16461  [0, 52, 142, 224, 294, 538, 854, 883, 914, 986...   \n",
       "18543  [264, 262, 261, 258, 257, 254, 249, 247, 244, ...   \n",
       "18427                                 [176, 113, 73, 50]   \n",
       "17569  [51, 50, 49, 48, 47, 46, 45, 44, 43, 42, 41, 4...   \n",
       "16774  [233, 230, 227, 226, 224, 223, 222, 220, 217, ...   \n",
       "\n",
       "                                          timestamp_list         family  \\\n",
       "0      [8.35, 8.54, 8.96, 18.68, 51.05, 75.15, 111.95...    GolombRuler   \n",
       "655                                                 None    GolombRuler   \n",
       "8842                                                None    GolombRuler   \n",
       "4256   [2.56, 4.75, 4.93, 7.67, 7.83, 9.05, 12.7, 14....    GolombRuler   \n",
       "5445                                                 2.1          Rcpsp   \n",
       "...                                                  ...            ...   \n",
       "16461  [0.4, 0.4, 0.4, 0.4, 0.4, 0.4, 0.4, 0.4, 0.4, ...  MultiKnapsack   \n",
       "18543  [4.19, 4.19, 4.19, 4.19, 7.81, 7.81, 8.75, 8.7...  PseudoBoolean   \n",
       "18427                                               None  PseudoBoolean   \n",
       "17569  [0.131481, 4.10674, 8.25892, 16.2903, 17.0617,...  PseudoBoolean   \n",
       "16774  [4.39, 6.74, 7.39, 7.65, 9.59, 9.61, 9.63, 9.6...  PseudoBoolean   \n",
       "\n",
       "      cop.way  timeout  success  user_success  missing  consistent_xp  \\\n",
       "0         NaN   1200.0     True          True    False           True   \n",
       "655      None   1200.0     True          True    False           True   \n",
       "8842     None   1200.0     True          True    False           True   \n",
       "4256      min   1200.0     True          True    False           True   \n",
       "5445     None   1200.0     True          True    False           True   \n",
       "...       ...      ...      ...           ...      ...            ...   \n",
       "16461     max   1200.0     True          True    False           True   \n",
       "18543    None   1200.0     True          True    False           True   \n",
       "18427    None   1200.0     True          True    False           True   \n",
       "17569    None   1200.0     True          True    False           True   \n",
       "16774     min   1200.0     True          True    False           True   \n",
       "\n",
       "       consistent_input  error  \n",
       "0                  True  False  \n",
       "655                True  False  \n",
       "8842               True  False  \n",
       "4256               True  False  \n",
       "5445               True  False  \n",
       "...                 ...    ...  \n",
       "16461              True  False  \n",
       "18543              True  False  \n",
       "18427              True  False  \n",
       "17569              True  False  \n",
       "16774              True  False  \n",
       "\n",
       "[19088 rows x 16 columns]"
      ]
     },
     "execution_count": 3,
     "metadata": {},
     "output_type": "execute_result"
    }
   ],
   "source": [
    "analysis.data_frame"
   ]
  },
  {
   "cell_type": "markdown",
   "metadata": {
    "pycharm": {
     "name": "#%% md\n"
    }
   },
   "source": [
    "## More meaningful names for experiment-wares"
   ]
  },
  {
   "cell_type": "markdown",
   "metadata": {
    "pycharm": {
     "name": "#%% md\n"
    }
   },
   "source": [
    "Currently, the names of the experiment-wares correspond to those extracted by *Metrics-Scalpel*.\n",
    "While they are sufficient to discriminate them in the analysis, they are not necessarily meaningful.\n",
    "It is possible to replace them by more descriptive names, that may even contain LaTeX code if you want pretty names in your papers."
   ]
  },
  {
   "cell_type": "code",
   "execution_count": 4,
   "metadata": {
    "pycharm": {
     "name": "#%%\n"
    }
   },
   "outputs": [],
   "source": [
    "name_map = {\n",
    "    'ace': '$ACE$',\n",
    "    'choco': '$Choco$',\n",
    "    'cosoco': '$Cosoco$',\n",
    "    'sat4j+default': '$Sat4j_{default}$',\n",
    "}"
   ]
  },
  {
   "cell_type": "markdown",
   "metadata": {
    "pycharm": {
     "name": "#%% md\n"
    }
   },
   "source": [
    "Based on the map above, we can easily replace the name of the experiment-wares as follows."
   ]
  },
  {
   "cell_type": "code",
   "execution_count": 5,
   "metadata": {
    "pycharm": {
     "name": "#%%\n"
    }
   },
   "outputs": [],
   "source": [
    "analysis = analysis.add_variable(\n",
    "    new_var='experiment_ware',\n",
    "    function=lambda xp: name_map[xp['experiment_ware']]\n",
    ")"
   ]
  },
  {
   "cell_type": "markdown",
   "metadata": {},
   "source": [
    "## General data preprocessing"
   ]
  },
  {
   "cell_type": "markdown",
   "metadata": {},
   "source": [
    "The first step is to fix the status that `Cosoco` outputs.\n",
    "Indeed, where `OPTIMUM FOUND` is expected, `Cosoco` only writes `OPTIMUM`."
   ]
  },
  {
   "cell_type": "code",
   "execution_count": 6,
   "metadata": {},
   "outputs": [],
   "source": [
    "analysis = analysis.add_variable(\n",
    "    new_var='status',\n",
    "    function=lambda xp: 'OPTIMUM FOUND' if xp['status'] == 'OPTIMUM' else xp['status']\n",
    ")"
   ]
  },
  {
   "cell_type": "markdown",
   "metadata": {},
   "source": [
    "Then, to know whether the input problem is a minimization or maximization problem, we must consider the column `cop.way`, but it is only provided by `ACE`.\n",
    "The function below allows to retrieve this information from the analysis."
   ]
  },
  {
   "cell_type": "code",
   "execution_count": 7,
   "metadata": {},
   "outputs": [],
   "source": [
    "def extract_min_or_max(xp):\n",
    "    \"\"\"\n",
    "    Retrieves from the analysis the type of optimization problem corresponding\n",
    "    to the given input.\n",
    "\n",
    "    :param xp: The experiment to determine the type of.\n",
    "    \"\"\"\n",
    "    df = analysis.data_frame\n",
    "    for way in df[df['input'] == xp['input']]['cop.way'].unique():\n",
    "        if not isnull(way):\n",
    "            return way\n",
    "    return None"
   ]
  },
  {
   "cell_type": "markdown",
   "metadata": {},
   "source": [
    "We can now apply the function above to associate any experiment to its associated objective type."
   ]
  },
  {
   "cell_type": "code",
   "execution_count": 8,
   "metadata": {},
   "outputs": [],
   "source": [
    "analysis = analysis.add_variable(\n",
    "    new_var='objective',\n",
    "    function=extract_min_or_max\n",
    ")"
   ]
  },
  {
   "cell_type": "markdown",
   "metadata": {},
   "source": [
    "To make easier the manipulation of the data related to the experiments, we add a new variable to represent the best value found by the solvers."
   ]
  },
  {
   "cell_type": "code",
   "execution_count": 9,
   "metadata": {},
   "outputs": [],
   "source": [
    "def extract_best_value(xp):\n",
    "    \"\"\"\n",
    "    Extracts the best value found by the solver.\n",
    "    By construction, it is necessarily the latest one.\n",
    "    \n",
    "    :param xp: The experiment to determine the best bound of.\n",
    "    \"\"\"\n",
    "    if isinstance(xp['bound_list'], list):\n",
    "        # Several values were found, the best one is the latest.\n",
    "        return xp['bound_list'][-1]\n",
    "    if not isnull(xp['bound_list']):\n",
    "        # Only one value was found, it is necessarily the best.\n",
    "        return int(xp['bound_list'])\n",
    "    # No values were found.\n",
    "    return None"
   ]
  },
  {
   "cell_type": "markdown",
   "metadata": {},
   "source": [
    "We now use this function to define a new variable in the analysis."
   ]
  },
  {
   "cell_type": "code",
   "execution_count": 10,
   "metadata": {},
   "outputs": [],
   "source": [
    "analysis = analysis.add_variable(\n",
    "    new_var='best_bound',\n",
    "    function=extract_best_value\n",
    ").add_variable(\n",
    "    new_var='optimum',\n",
    "    function=lambda xp: xp['best_bound'] if xp['status'] == 'OPTIMUM FOUND' else None\n",
    ")"
   ]
  },
  {
   "cell_type": "markdown",
   "metadata": {},
   "source": [
    "We can now check in the data-frame whether all the changes made in this section have been properly applied to the collected data."
   ]
  },
  {
   "cell_type": "code",
   "execution_count": 11,
   "metadata": {},
   "outputs": [
    {
     "data": {
      "text/html": [
       "<div>\n",
       "<style scoped>\n",
       "    .dataframe tbody tr th:only-of-type {\n",
       "        vertical-align: middle;\n",
       "    }\n",
       "\n",
       "    .dataframe tbody tr th {\n",
       "        vertical-align: top;\n",
       "    }\n",
       "\n",
       "    .dataframe thead th {\n",
       "        text-align: right;\n",
       "    }\n",
       "</style>\n",
       "<table border=\"1\" class=\"dataframe\">\n",
       "  <thead>\n",
       "    <tr style=\"text-align: right;\">\n",
       "      <th></th>\n",
       "      <th>input</th>\n",
       "      <th>experiment_ware</th>\n",
       "      <th>cpu_time</th>\n",
       "      <th>track</th>\n",
       "      <th>status</th>\n",
       "      <th>bound_list</th>\n",
       "      <th>timestamp_list</th>\n",
       "      <th>family</th>\n",
       "      <th>cop.way</th>\n",
       "      <th>timeout</th>\n",
       "      <th>success</th>\n",
       "      <th>user_success</th>\n",
       "      <th>missing</th>\n",
       "      <th>consistent_xp</th>\n",
       "      <th>consistent_input</th>\n",
       "      <th>error</th>\n",
       "      <th>objective</th>\n",
       "      <th>best_bound</th>\n",
       "      <th>optimum</th>\n",
       "    </tr>\n",
       "  </thead>\n",
       "  <tbody>\n",
       "    <tr>\n",
       "      <th>0</th>\n",
       "      <td>GolombRuler_a4_s1_GolombRuler_11_a4</td>\n",
       "      <td>$Choco$</td>\n",
       "      <td>300.06500</td>\n",
       "      <td>COP</td>\n",
       "      <td>SATISFIABLE</td>\n",
       "      <td>[108, 98, 96, 93, 92, 89, 87, 86, 85]</td>\n",
       "      <td>[8.35, 8.54, 8.96, 18.68, 51.05, 75.15, 111.95...</td>\n",
       "      <td>GolombRuler</td>\n",
       "      <td>NaN</td>\n",
       "      <td>1200.0</td>\n",
       "      <td>True</td>\n",
       "      <td>True</td>\n",
       "      <td>False</td>\n",
       "      <td>True</td>\n",
       "      <td>True</td>\n",
       "      <td>False</td>\n",
       "      <td>min</td>\n",
       "      <td>85.0</td>\n",
       "      <td>NaN</td>\n",
       "    </tr>\n",
       "    <tr>\n",
       "      <th>655</th>\n",
       "      <td>GolombRuler_a4_s1_GolombRuler_11_a4</td>\n",
       "      <td>$Sat4j_{default}$</td>\n",
       "      <td>920.07900</td>\n",
       "      <td>None</td>\n",
       "      <td>None</td>\n",
       "      <td>None</td>\n",
       "      <td>None</td>\n",
       "      <td>GolombRuler</td>\n",
       "      <td>None</td>\n",
       "      <td>1200.0</td>\n",
       "      <td>True</td>\n",
       "      <td>True</td>\n",
       "      <td>False</td>\n",
       "      <td>True</td>\n",
       "      <td>True</td>\n",
       "      <td>False</td>\n",
       "      <td>min</td>\n",
       "      <td>NaN</td>\n",
       "      <td>NaN</td>\n",
       "    </tr>\n",
       "    <tr>\n",
       "      <th>8842</th>\n",
       "      <td>GolombRuler_a4_s1_GolombRuler_11_a4</td>\n",
       "      <td>$Cosoco$</td>\n",
       "      <td>467.94100</td>\n",
       "      <td>None</td>\n",
       "      <td>UNKNOWN</td>\n",
       "      <td>None</td>\n",
       "      <td>None</td>\n",
       "      <td>GolombRuler</td>\n",
       "      <td>None</td>\n",
       "      <td>1200.0</td>\n",
       "      <td>True</td>\n",
       "      <td>True</td>\n",
       "      <td>False</td>\n",
       "      <td>True</td>\n",
       "      <td>True</td>\n",
       "      <td>False</td>\n",
       "      <td>min</td>\n",
       "      <td>NaN</td>\n",
       "      <td>NaN</td>\n",
       "    </tr>\n",
       "    <tr>\n",
       "      <th>4256</th>\n",
       "      <td>GolombRuler_a4_s1_GolombRuler_11_a4</td>\n",
       "      <td>$ACE$</td>\n",
       "      <td>900.13300</td>\n",
       "      <td>None</td>\n",
       "      <td>SATISFIABLE</td>\n",
       "      <td>[96, 93, 92, 90, 89, 86, 85, 84, 80, 77, 76, 74]</td>\n",
       "      <td>[2.56, 4.75, 4.93, 7.67, 7.83, 9.05, 12.7, 14....</td>\n",
       "      <td>GolombRuler</td>\n",
       "      <td>min</td>\n",
       "      <td>1200.0</td>\n",
       "      <td>True</td>\n",
       "      <td>True</td>\n",
       "      <td>False</td>\n",
       "      <td>True</td>\n",
       "      <td>True</td>\n",
       "      <td>False</td>\n",
       "      <td>min</td>\n",
       "      <td>74.0</td>\n",
       "      <td>NaN</td>\n",
       "    </tr>\n",
       "    <tr>\n",
       "      <th>5445</th>\n",
       "      <td>Rcpsp_m1_j90_Rcpsp_j90_12_10</td>\n",
       "      <td>$Choco$</td>\n",
       "      <td>2.34603</td>\n",
       "      <td>COP</td>\n",
       "      <td>OPTIMUM FOUND</td>\n",
       "      <td>86</td>\n",
       "      <td>2.1</td>\n",
       "      <td>Rcpsp</td>\n",
       "      <td>None</td>\n",
       "      <td>1200.0</td>\n",
       "      <td>True</td>\n",
       "      <td>True</td>\n",
       "      <td>False</td>\n",
       "      <td>True</td>\n",
       "      <td>True</td>\n",
       "      <td>False</td>\n",
       "      <td>min</td>\n",
       "      <td>86.0</td>\n",
       "      <td>86.0</td>\n",
       "    </tr>\n",
       "    <tr>\n",
       "      <th>...</th>\n",
       "      <td>...</td>\n",
       "      <td>...</td>\n",
       "      <td>...</td>\n",
       "      <td>...</td>\n",
       "      <td>...</td>\n",
       "      <td>...</td>\n",
       "      <td>...</td>\n",
       "      <td>...</td>\n",
       "      <td>...</td>\n",
       "      <td>...</td>\n",
       "      <td>...</td>\n",
       "      <td>...</td>\n",
       "      <td>...</td>\n",
       "      <td>...</td>\n",
       "      <td>...</td>\n",
       "      <td>...</td>\n",
       "      <td>...</td>\n",
       "      <td>...</td>\n",
       "      <td>...</td>\n",
       "    </tr>\n",
       "    <tr>\n",
       "      <th>16461</th>\n",
       "      <td>MultiKnapsack_weish28</td>\n",
       "      <td>$ACE$</td>\n",
       "      <td>900.14300</td>\n",
       "      <td>None</td>\n",
       "      <td>SATISFIABLE</td>\n",
       "      <td>[0, 52, 142, 224, 294, 538, 854, 883, 914, 986...</td>\n",
       "      <td>[0.4, 0.4, 0.4, 0.4, 0.4, 0.4, 0.4, 0.4, 0.4, ...</td>\n",
       "      <td>MultiKnapsack</td>\n",
       "      <td>max</td>\n",
       "      <td>1200.0</td>\n",
       "      <td>True</td>\n",
       "      <td>True</td>\n",
       "      <td>False</td>\n",
       "      <td>True</td>\n",
       "      <td>True</td>\n",
       "      <td>False</td>\n",
       "      <td>max</td>\n",
       "      <td>9492.0</td>\n",
       "      <td>NaN</td>\n",
       "    </tr>\n",
       "    <tr>\n",
       "      <th>18543</th>\n",
       "      <td>PseudoBoolean_opt_radar_Pb_radar_30_30_45_050_100</td>\n",
       "      <td>$Choco$</td>\n",
       "      <td>300.03800</td>\n",
       "      <td>COP</td>\n",
       "      <td>SATISFIABLE</td>\n",
       "      <td>[264, 262, 261, 258, 257, 254, 249, 247, 244, ...</td>\n",
       "      <td>[4.19, 4.19, 4.19, 4.19, 7.81, 7.81, 8.75, 8.7...</td>\n",
       "      <td>PseudoBoolean</td>\n",
       "      <td>None</td>\n",
       "      <td>1200.0</td>\n",
       "      <td>True</td>\n",
       "      <td>True</td>\n",
       "      <td>False</td>\n",
       "      <td>True</td>\n",
       "      <td>True</td>\n",
       "      <td>False</td>\n",
       "      <td>min</td>\n",
       "      <td>49.0</td>\n",
       "      <td>NaN</td>\n",
       "    </tr>\n",
       "    <tr>\n",
       "      <th>18427</th>\n",
       "      <td>PseudoBoolean_opt_radar_Pb_radar_30_30_45_050_100</td>\n",
       "      <td>$Sat4j_{default}$</td>\n",
       "      <td>900.15600</td>\n",
       "      <td>None</td>\n",
       "      <td>SATISFIABLE</td>\n",
       "      <td>[176, 113, 73, 50]</td>\n",
       "      <td>None</td>\n",
       "      <td>PseudoBoolean</td>\n",
       "      <td>None</td>\n",
       "      <td>1200.0</td>\n",
       "      <td>True</td>\n",
       "      <td>True</td>\n",
       "      <td>False</td>\n",
       "      <td>True</td>\n",
       "      <td>True</td>\n",
       "      <td>False</td>\n",
       "      <td>min</td>\n",
       "      <td>50.0</td>\n",
       "      <td>NaN</td>\n",
       "    </tr>\n",
       "    <tr>\n",
       "      <th>17569</th>\n",
       "      <td>PseudoBoolean_opt_radar_Pb_radar_30_30_45_050_100</td>\n",
       "      <td>$Cosoco$</td>\n",
       "      <td>898.13600</td>\n",
       "      <td>None</td>\n",
       "      <td>SATISFIABLE</td>\n",
       "      <td>[51, 50, 49, 48, 47, 46, 45, 44, 43, 42, 41, 4...</td>\n",
       "      <td>[0.131481, 4.10674, 8.25892, 16.2903, 17.0617,...</td>\n",
       "      <td>PseudoBoolean</td>\n",
       "      <td>None</td>\n",
       "      <td>1200.0</td>\n",
       "      <td>True</td>\n",
       "      <td>True</td>\n",
       "      <td>False</td>\n",
       "      <td>True</td>\n",
       "      <td>True</td>\n",
       "      <td>False</td>\n",
       "      <td>min</td>\n",
       "      <td>29.0</td>\n",
       "      <td>NaN</td>\n",
       "    </tr>\n",
       "    <tr>\n",
       "      <th>16774</th>\n",
       "      <td>PseudoBoolean_opt_radar_Pb_radar_30_30_45_050_100</td>\n",
       "      <td>$ACE$</td>\n",
       "      <td>900.21500</td>\n",
       "      <td>None</td>\n",
       "      <td>SATISFIABLE</td>\n",
       "      <td>[233, 230, 227, 226, 224, 223, 222, 220, 217, ...</td>\n",
       "      <td>[4.39, 6.74, 7.39, 7.65, 9.59, 9.61, 9.63, 9.6...</td>\n",
       "      <td>PseudoBoolean</td>\n",
       "      <td>min</td>\n",
       "      <td>1200.0</td>\n",
       "      <td>True</td>\n",
       "      <td>True</td>\n",
       "      <td>False</td>\n",
       "      <td>True</td>\n",
       "      <td>True</td>\n",
       "      <td>False</td>\n",
       "      <td>min</td>\n",
       "      <td>36.0</td>\n",
       "      <td>NaN</td>\n",
       "    </tr>\n",
       "  </tbody>\n",
       "</table>\n",
       "<p>19088 rows × 19 columns</p>\n",
       "</div>"
      ],
      "text/plain": [
       "                                                   input    experiment_ware  \\\n",
       "0                    GolombRuler_a4_s1_GolombRuler_11_a4            $Choco$   \n",
       "655                  GolombRuler_a4_s1_GolombRuler_11_a4  $Sat4j_{default}$   \n",
       "8842                 GolombRuler_a4_s1_GolombRuler_11_a4           $Cosoco$   \n",
       "4256                 GolombRuler_a4_s1_GolombRuler_11_a4              $ACE$   \n",
       "5445                        Rcpsp_m1_j90_Rcpsp_j90_12_10            $Choco$   \n",
       "...                                                  ...                ...   \n",
       "16461                              MultiKnapsack_weish28              $ACE$   \n",
       "18543  PseudoBoolean_opt_radar_Pb_radar_30_30_45_050_100            $Choco$   \n",
       "18427  PseudoBoolean_opt_radar_Pb_radar_30_30_45_050_100  $Sat4j_{default}$   \n",
       "17569  PseudoBoolean_opt_radar_Pb_radar_30_30_45_050_100           $Cosoco$   \n",
       "16774  PseudoBoolean_opt_radar_Pb_radar_30_30_45_050_100              $ACE$   \n",
       "\n",
       "        cpu_time track         status  \\\n",
       "0      300.06500   COP    SATISFIABLE   \n",
       "655    920.07900  None           None   \n",
       "8842   467.94100  None        UNKNOWN   \n",
       "4256   900.13300  None    SATISFIABLE   \n",
       "5445     2.34603   COP  OPTIMUM FOUND   \n",
       "...          ...   ...            ...   \n",
       "16461  900.14300  None    SATISFIABLE   \n",
       "18543  300.03800   COP    SATISFIABLE   \n",
       "18427  900.15600  None    SATISFIABLE   \n",
       "17569  898.13600  None    SATISFIABLE   \n",
       "16774  900.21500  None    SATISFIABLE   \n",
       "\n",
       "                                              bound_list  \\\n",
       "0                  [108, 98, 96, 93, 92, 89, 87, 86, 85]   \n",
       "655                                                 None   \n",
       "8842                                                None   \n",
       "4256    [96, 93, 92, 90, 89, 86, 85, 84, 80, 77, 76, 74]   \n",
       "5445                                                  86   \n",
       "...                                                  ...   \n",
       "16461  [0, 52, 142, 224, 294, 538, 854, 883, 914, 986...   \n",
       "18543  [264, 262, 261, 258, 257, 254, 249, 247, 244, ...   \n",
       "18427                                 [176, 113, 73, 50]   \n",
       "17569  [51, 50, 49, 48, 47, 46, 45, 44, 43, 42, 41, 4...   \n",
       "16774  [233, 230, 227, 226, 224, 223, 222, 220, 217, ...   \n",
       "\n",
       "                                          timestamp_list         family  \\\n",
       "0      [8.35, 8.54, 8.96, 18.68, 51.05, 75.15, 111.95...    GolombRuler   \n",
       "655                                                 None    GolombRuler   \n",
       "8842                                                None    GolombRuler   \n",
       "4256   [2.56, 4.75, 4.93, 7.67, 7.83, 9.05, 12.7, 14....    GolombRuler   \n",
       "5445                                                 2.1          Rcpsp   \n",
       "...                                                  ...            ...   \n",
       "16461  [0.4, 0.4, 0.4, 0.4, 0.4, 0.4, 0.4, 0.4, 0.4, ...  MultiKnapsack   \n",
       "18543  [4.19, 4.19, 4.19, 4.19, 7.81, 7.81, 8.75, 8.7...  PseudoBoolean   \n",
       "18427                                               None  PseudoBoolean   \n",
       "17569  [0.131481, 4.10674, 8.25892, 16.2903, 17.0617,...  PseudoBoolean   \n",
       "16774  [4.39, 6.74, 7.39, 7.65, 9.59, 9.61, 9.63, 9.6...  PseudoBoolean   \n",
       "\n",
       "      cop.way  timeout  success  user_success  missing  consistent_xp  \\\n",
       "0         NaN   1200.0     True          True    False           True   \n",
       "655      None   1200.0     True          True    False           True   \n",
       "8842     None   1200.0     True          True    False           True   \n",
       "4256      min   1200.0     True          True    False           True   \n",
       "5445     None   1200.0     True          True    False           True   \n",
       "...       ...      ...      ...           ...      ...            ...   \n",
       "16461     max   1200.0     True          True    False           True   \n",
       "18543    None   1200.0     True          True    False           True   \n",
       "18427    None   1200.0     True          True    False           True   \n",
       "17569    None   1200.0     True          True    False           True   \n",
       "16774     min   1200.0     True          True    False           True   \n",
       "\n",
       "       consistent_input  error objective  best_bound  optimum  \n",
       "0                  True  False       min        85.0      NaN  \n",
       "655                True  False       min         NaN      NaN  \n",
       "8842               True  False       min         NaN      NaN  \n",
       "4256               True  False       min        74.0      NaN  \n",
       "5445               True  False       min        86.0     86.0  \n",
       "...                 ...    ...       ...         ...      ...  \n",
       "16461              True  False       max      9492.0      NaN  \n",
       "18543              True  False       min        49.0      NaN  \n",
       "18427              True  False       min        50.0      NaN  \n",
       "17569              True  False       min        29.0      NaN  \n",
       "16774              True  False       min        36.0      NaN  \n",
       "\n",
       "[19088 rows x 19 columns]"
      ]
     },
     "execution_count": 11,
     "metadata": {},
     "output_type": "execute_result"
    }
   ],
   "source": [
    "analysis.data_frame"
   ]
  },
  {
   "cell_type": "markdown",
   "metadata": {
    "pycharm": {
     "name": "#%% md\n"
    }
   },
   "source": [
    "## Checking the success and consistency of the results"
   ]
  },
  {
   "cell_type": "markdown",
   "metadata": {
    "pycharm": {
     "name": "#%% md\n"
    }
   },
   "source": [
    "During our analysis, we will need to know whether a given experiment was successful.\n",
    "As an example, we provide below the code to check the success of an optimization solver."
   ]
  },
  {
   "cell_type": "code",
   "execution_count": 12,
   "metadata": {
    "pycharm": {
     "name": "#%%\n"
    }
   },
   "outputs": [],
   "source": [
    "def is_success(xp):\n",
    "    \"\"\"\n",
    "    This function checks that a solver either proved the optimality of its best\n",
    "    bound within the time limit, or proved the input to be unsatisfiable.\n",
    "\n",
    "    :param xp: The experiment to determine the best bound of.\n",
    "    \"\"\"\n",
    "    return xp['status'] == 'OPTIMUM FOUND' or xp['status'] == 'UNSATISFIABLE'"
   ]
  },
  {
   "cell_type": "markdown",
   "metadata": {
    "pycharm": {
     "name": "#%% md\n"
    }
   },
   "source": [
    "To make sure that our experiments are consistent, we also need to compare the results obtained by the different experiment-wares.\n",
    "As an example, we provide below the code to check that if different optimization solvers claim to have found an optimal value, this value must be the same for all solvers."
   ]
  },
  {
   "cell_type": "code",
   "execution_count": 13,
   "metadata": {
    "pycharm": {
     "name": "#%%\n"
    },
    "scrolled": true
   },
   "outputs": [],
   "source": [
    "def is_consistent_by_input(df_input):\n",
    "    \"\"\"\n",
    "    This function checks that the pairwise comparison between two different\n",
    "    optimal bounds found on the same input is small enough to consider these bounds as consistent.\n",
    "    \n",
    "    :param df_input: The data-frame containing all the data related to a particular input.\n",
    "    \"\"\"\n",
    "    # Checking the decision of the solvers.\n",
    "    decisions = df_input['status'].unique()\n",
    "    if 'OPTIMUM FOUND' in decisions and 'UNSATISFIABLE' in decisions:\n",
    "        # A solver has found an optimal solution while another proved unsatisfiability.\n",
    "        return False\n",
    "    if 'SATISFIABLE' in decisions and 'UNSATISFIABLE' in decisions:\n",
    "        # A solver has found a solution while another proved unsatisfiability.\n",
    "        return False\n",
    "\n",
    "    # Checking that at most one optimal value exists.\n",
    "    return len(df_input[df_input['status'] == 'OPTIMUM FOUND']['optimum'].unique()) <= 1"
   ]
  },
  {
   "cell_type": "markdown",
   "metadata": {
    "pycharm": {
     "name": "#%% md\n"
    }
   },
   "source": [
    "We can now use the functions above to check the consistency of the different experiments in the analysis."
   ]
  },
  {
   "cell_type": "code",
   "execution_count": 14,
   "metadata": {
    "pycharm": {
     "name": "#%%\n"
    },
    "scrolled": true
   },
   "outputs": [],
   "source": [
    "analysis.check_success(is_success)\n",
    "analysis.check_input_consistency(is_consistent_by_input)"
   ]
  },
  {
   "cell_type": "markdown",
   "metadata": {
    "pycharm": {
     "name": "#%% md\n"
    }
   },
   "source": [
    "There is no warning raised when checking the consistency of the results, and the table below is empty, so there is apparently no consistency issues with our experiments."
   ]
  },
  {
   "cell_type": "code",
   "execution_count": 15,
   "metadata": {
    "pycharm": {
     "name": "#%%\n"
    }
   },
   "outputs": [
    {
     "data": {
      "text/html": [
       "<div>\n",
       "<style scoped>\n",
       "    .dataframe tbody tr th:only-of-type {\n",
       "        vertical-align: middle;\n",
       "    }\n",
       "\n",
       "    .dataframe tbody tr th {\n",
       "        vertical-align: top;\n",
       "    }\n",
       "\n",
       "    .dataframe thead th {\n",
       "        text-align: right;\n",
       "    }\n",
       "</style>\n",
       "<table border=\"1\" class=\"dataframe\">\n",
       "  <thead>\n",
       "    <tr style=\"text-align: right;\">\n",
       "      <th></th>\n",
       "      <th>input</th>\n",
       "      <th>experiment_ware</th>\n",
       "      <th>cpu_time</th>\n",
       "      <th>track</th>\n",
       "      <th>status</th>\n",
       "      <th>bound_list</th>\n",
       "      <th>timestamp_list</th>\n",
       "      <th>family</th>\n",
       "      <th>cop.way</th>\n",
       "      <th>timeout</th>\n",
       "      <th>success</th>\n",
       "      <th>user_success</th>\n",
       "      <th>missing</th>\n",
       "      <th>consistent_xp</th>\n",
       "      <th>consistent_input</th>\n",
       "      <th>error</th>\n",
       "      <th>objective</th>\n",
       "      <th>best_bound</th>\n",
       "      <th>optimum</th>\n",
       "    </tr>\n",
       "  </thead>\n",
       "  <tbody>\n",
       "  </tbody>\n",
       "</table>\n",
       "</div>"
      ],
      "text/plain": [
       "Empty DataFrame\n",
       "Columns: [input, experiment_ware, cpu_time, track, status, bound_list, timestamp_list, family, cop.way, timeout, success, user_success, missing, consistent_xp, consistent_input, error, objective, best_bound, optimum]\n",
       "Index: []"
      ]
     },
     "execution_count": 15,
     "metadata": {},
     "output_type": "execute_result"
    }
   ],
   "source": [
    "analysis.error_table()"
   ]
  },
  {
   "cell_type": "markdown",
   "metadata": {
    "pycharm": {
     "name": "#%% md\n"
    }
   },
   "source": [
    "## Summary and export of the analysis"
   ]
  },
  {
   "cell_type": "markdown",
   "metadata": {
    "pycharm": {
     "name": "#%% md\n"
    }
   },
   "source": [
    "We can now give a summary of the analysis, that we obtain through the following table."
   ]
  },
  {
   "cell_type": "code",
   "execution_count": 16,
   "metadata": {
    "pycharm": {
     "name": "#%%\n"
    },
    "scrolled": true
   },
   "outputs": [
    {
     "data": {
      "text/html": [
       "<div>\n",
       "<style scoped>\n",
       "    .dataframe tbody tr th:only-of-type {\n",
       "        vertical-align: middle;\n",
       "    }\n",
       "\n",
       "    .dataframe tbody tr th {\n",
       "        vertical-align: top;\n",
       "    }\n",
       "\n",
       "    .dataframe thead th {\n",
       "        text-align: right;\n",
       "    }\n",
       "</style>\n",
       "<table border=\"1\" class=\"dataframe\">\n",
       "  <thead>\n",
       "    <tr style=\"text-align: right;\">\n",
       "      <th></th>\n",
       "      <th>analysis</th>\n",
       "    </tr>\n",
       "  </thead>\n",
       "  <tbody>\n",
       "    <tr>\n",
       "      <th>n_experiment_wares</th>\n",
       "      <td>4</td>\n",
       "    </tr>\n",
       "    <tr>\n",
       "      <th>n_inputs</th>\n",
       "      <td>4772</td>\n",
       "    </tr>\n",
       "    <tr>\n",
       "      <th>n_experiments</th>\n",
       "      <td>19088</td>\n",
       "    </tr>\n",
       "    <tr>\n",
       "      <th>n_missing_xp</th>\n",
       "      <td>0</td>\n",
       "    </tr>\n",
       "    <tr>\n",
       "      <th>n_inconsistent_xp</th>\n",
       "      <td>0</td>\n",
       "    </tr>\n",
       "    <tr>\n",
       "      <th>n_inconsistent_xp_due_to_input</th>\n",
       "      <td>0</td>\n",
       "    </tr>\n",
       "    <tr>\n",
       "      <th>more_info_about_variables</th>\n",
       "      <td>&lt;analysis&gt;.data_frame.describe(include='all')</td>\n",
       "    </tr>\n",
       "  </tbody>\n",
       "</table>\n",
       "</div>"
      ],
      "text/plain": [
       "                                                                     analysis\n",
       "n_experiment_wares                                                          4\n",
       "n_inputs                                                                 4772\n",
       "n_experiments                                                           19088\n",
       "n_missing_xp                                                                0\n",
       "n_inconsistent_xp                                                           0\n",
       "n_inconsistent_xp_due_to_input                                              0\n",
       "more_info_about_variables       <analysis>.data_frame.describe(include='all')"
      ]
     },
     "execution_count": 16,
     "metadata": {},
     "output_type": "execute_result"
    }
   ],
   "source": [
    "analysis.description_table()"
   ]
  },
  {
   "cell_type": "markdown",
   "metadata": {
    "pycharm": {
     "name": "#%% md\n"
    }
   },
   "source": [
    "Finally, the analysis is exported, both to share the data to allow the reproducibility of the analysis, and to reuse it in other notebooks dedicated to more specific analyses."
   ]
  },
  {
   "cell_type": "code",
   "execution_count": 17,
   "metadata": {
    "ExecuteTime": {
     "end_time": "2021-11-07T17:31:00.310070Z",
     "start_time": "2021-11-07T17:31:00.293572Z"
    },
    "pycharm": {
     "name": "#%%\n"
    }
   },
   "outputs": [],
   "source": [
    "analysis.export('.cache')"
   ]
  }
 ],
 "metadata": {
  "interpreter": {
   "hash": "31f2aee4e71d21fbe5cf8b01ff0e069b9275f58929596ceb00d14d90e3e16cd6"
  },
  "kernelspec": {
   "display_name": "Python 3 (ipykernel)",
   "language": "python",
   "name": "python3"
  },
  "language_info": {
   "codemirror_mode": {
    "name": "ipython",
    "version": 3
   },
   "file_extension": ".py",
   "mimetype": "text/x-python",
   "name": "python",
   "nbconvert_exporter": "python",
   "pygments_lexer": "ipython3",
   "version": "3.10.1"
  },
  "latex_envs": {
   "LaTeX_envs_menu_present": true,
   "autoclose": false,
   "autocomplete": true,
   "bibliofile": "biblio.bib",
   "cite_by": "apalike",
   "current_citInitial": 1,
   "eqLabelWithNumbers": true,
   "eqNumInitial": 1,
   "hotkeys": {
    "equation": "Ctrl-E",
    "itemize": "Ctrl-I"
   },
   "labels_anchors": false,
   "latex_user_defs": false,
   "report_style_numbering": false,
   "user_envs_cfg": false
  },
  "toc": {
   "base_numbering": 1,
   "nav_menu": {},
   "number_sections": true,
   "sideBar": true,
   "skip_h1_title": false,
   "title_cell": "Table of Contents",
   "title_sidebar": "Contents",
   "toc_cell": false,
   "toc_position": {},
   "toc_section_display": true,
   "toc_window_display": false
  }
 },
 "nbformat": 4,
 "nbformat_minor": 4
}
