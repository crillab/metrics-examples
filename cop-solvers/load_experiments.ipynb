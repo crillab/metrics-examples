{
 "cells": [
  {
   "cell_type": "markdown",
   "metadata": {
    "pycharm": {
     "name": "#%% md\n"
    }
   },
   "source": [
    "# Loading Experiment Data"
   ]
  },
  {
   "cell_type": "markdown",
   "metadata": {
    "pycharm": {
     "name": "#%% md\n"
    }
   },
   "source": [
    "In this notebook, we start by loading the data collected while running different experiment-wares (in this case, COP solvers), and perform some preprocessing on this data to allow its use for further analysis in dedicated notebooks."
   ]
  },
  {
   "cell_type": "markdown",
   "metadata": {
    "pycharm": {
     "name": "#%% md\n"
    }
   },
   "source": [
    "## Imports"
   ]
  },
  {
   "cell_type": "markdown",
   "metadata": {
    "pycharm": {
     "name": "#%% md\n"
    }
   },
   "source": [
    "We first need to import the modules we need to load the data.\n",
    "In particular, we must obviously import *Metrics-Wallet*, which we will use to deal with our data."
   ]
  },
  {
   "cell_type": "code",
   "execution_count": 1,
   "metadata": {
    "ExecuteTime": {
     "end_time": "2021-11-07T17:26:58.851247Z",
     "start_time": "2021-11-07T17:26:58.847902Z"
    },
    "pycharm": {
     "name": "#%%\n"
    }
   },
   "outputs": [],
   "source": [
    "from itertools import product\n",
    "from metrics.wallet import BasicAnalysis\n",
    "from pandas import isnull"
   ]
  },
  {
   "cell_type": "markdown",
   "metadata": {
    "pycharm": {
     "name": "#%% md\n"
    }
   },
   "source": [
    "## Reading the data"
   ]
  },
  {
   "cell_type": "markdown",
   "metadata": {
    "pycharm": {
     "name": "#%% md\n"
    }
   },
   "source": [
    "The next step is to read the data from the log files produced by our different experiment-wares.\n",
    "This data is described in the file [`scalpel_config.yml`](config/scalpel_config.yml), and automatically parsed by *Metrics-Scalpel* to create a `BasicAnalysis` object."
   ]
  },
  {
   "cell_type": "code",
   "execution_count": 2,
   "metadata": {
    "ExecuteTime": {
     "end_time": "2021-11-07T17:27:53.817744Z",
     "start_time": "2021-11-07T17:27:00.267087Z"
    },
    "pycharm": {
     "name": "#%%\n"
    }
   },
   "outputs": [],
   "source": [
    "analysis = BasicAnalysis(input_file='config/scalpel_config.yml', log_level='WARNING')"
   ]
  },
  {
   "cell_type": "markdown",
   "metadata": {
    "pycharm": {
     "name": "#%% md\n"
    }
   },
   "source": [
    "The `BasicAnalysis` object instantiated above provides elementary and general methods for preprocessing our data before actually analyzing the results (which will require more specific methods as it can be seen in the dedicated notebooks)."
   ]
  },
  {
   "cell_type": "markdown",
   "metadata": {
    "pycharm": {
     "name": "#%% md\n"
    }
   },
   "source": [
    "An important thing to do now is to visualize the collected data, to make sure that everything was properly read.\n",
    "This can be achieved by looking at the data-frame that has been built inside the `BasicAnalysis` object."
   ]
  },
  {
   "cell_type": "code",
   "execution_count": 3,
   "metadata": {
    "pycharm": {
     "name": "#%%\n"
    }
   },
   "outputs": [
    {
     "data": {
      "text/html": [
       "<div>\n",
       "<style scoped>\n",
       "    .dataframe tbody tr th:only-of-type {\n",
       "        vertical-align: middle;\n",
       "    }\n",
       "\n",
       "    .dataframe tbody tr th {\n",
       "        vertical-align: top;\n",
       "    }\n",
       "\n",
       "    .dataframe thead th {\n",
       "        text-align: right;\n",
       "    }\n",
       "</style>\n",
       "<table border=\"1\" class=\"dataframe\">\n",
       "  <thead>\n",
       "    <tr style=\"text-align: right;\">\n",
       "      <th></th>\n",
       "      <th>input</th>\n",
       "      <th>experiment_ware</th>\n",
       "      <th>cpu_time</th>\n",
       "      <th>track</th>\n",
       "      <th>status</th>\n",
       "      <th>bound_list</th>\n",
       "      <th>timestamp_list</th>\n",
       "      <th>family</th>\n",
       "      <th>cop.way</th>\n",
       "      <th>timeout</th>\n",
       "      <th>success</th>\n",
       "      <th>user_success</th>\n",
       "      <th>missing</th>\n",
       "      <th>consistent_xp</th>\n",
       "      <th>consistent_input</th>\n",
       "      <th>error</th>\n",
       "    </tr>\n",
       "  </thead>\n",
       "  <tbody>\n",
       "    <tr>\n",
       "      <th>0</th>\n",
       "      <td>Rcpsp_m1_j30_Rcpsp_j30_43_02</td>\n",
       "      <td>choco</td>\n",
       "      <td>1.326810</td>\n",
       "      <td>COP</td>\n",
       "      <td>OPTIMUM FOUND</td>\n",
       "      <td>[44, 43]</td>\n",
       "      <td>[1.12, 1.12]</td>\n",
       "      <td>Rcpsp</td>\n",
       "      <td>NaN</td>\n",
       "      <td>1200.0</td>\n",
       "      <td>True</td>\n",
       "      <td>True</td>\n",
       "      <td>False</td>\n",
       "      <td>True</td>\n",
       "      <td>True</td>\n",
       "      <td>False</td>\n",
       "    </tr>\n",
       "    <tr>\n",
       "      <th>9745</th>\n",
       "      <td>Rcpsp_m1_j30_Rcpsp_j30_43_02</td>\n",
       "      <td>cosoco</td>\n",
       "      <td>0.033937</td>\n",
       "      <td>None</td>\n",
       "      <td>OPTIMUM</td>\n",
       "      <td>43</td>\n",
       "      <td>0.000442</td>\n",
       "      <td>Rcpsp</td>\n",
       "      <td>None</td>\n",
       "      <td>1200.0</td>\n",
       "      <td>True</td>\n",
       "      <td>True</td>\n",
       "      <td>False</td>\n",
       "      <td>True</td>\n",
       "      <td>True</td>\n",
       "      <td>False</td>\n",
       "    </tr>\n",
       "    <tr>\n",
       "      <th>5079</th>\n",
       "      <td>Rcpsp_m1_j30_Rcpsp_j30_43_02</td>\n",
       "      <td>ace</td>\n",
       "      <td>2.674830</td>\n",
       "      <td>None</td>\n",
       "      <td>OPTIMUM FOUND</td>\n",
       "      <td>[55, 51, 50, 43]</td>\n",
       "      <td>[0.41, 0.43, 0.43, 0.44]</td>\n",
       "      <td>Rcpsp</td>\n",
       "      <td>min</td>\n",
       "      <td>1200.0</td>\n",
       "      <td>True</td>\n",
       "      <td>True</td>\n",
       "      <td>False</td>\n",
       "      <td>True</td>\n",
       "      <td>True</td>\n",
       "      <td>False</td>\n",
       "    </tr>\n",
       "    <tr>\n",
       "      <th>1377</th>\n",
       "      <td>Rcpsp_m1_j30_Rcpsp_j30_43_02</td>\n",
       "      <td>sat4j+default</td>\n",
       "      <td>240.661000</td>\n",
       "      <td>None</td>\n",
       "      <td>OPTIMUM FOUND</td>\n",
       "      <td>[143, 131, 129, 116, 115, 108, 107, 106, 105, ...</td>\n",
       "      <td>None</td>\n",
       "      <td>Rcpsp</td>\n",
       "      <td>None</td>\n",
       "      <td>1200.0</td>\n",
       "      <td>True</td>\n",
       "      <td>True</td>\n",
       "      <td>False</td>\n",
       "      <td>True</td>\n",
       "      <td>True</td>\n",
       "      <td>False</td>\n",
       "    </tr>\n",
       "    <tr>\n",
       "      <th>16164</th>\n",
       "      <td>GraphColoring_m1_mono_GraphColoring_2_fullins_5</td>\n",
       "      <td>choco</td>\n",
       "      <td>300.085000</td>\n",
       "      <td>COP</td>\n",
       "      <td>SATISFIABLE</td>\n",
       "      <td>6</td>\n",
       "      <td>5.93</td>\n",
       "      <td>GraphColoring</td>\n",
       "      <td>None</td>\n",
       "      <td>1200.0</td>\n",
       "      <td>True</td>\n",
       "      <td>True</td>\n",
       "      <td>False</td>\n",
       "      <td>True</td>\n",
       "      <td>True</td>\n",
       "      <td>False</td>\n",
       "    </tr>\n",
       "    <tr>\n",
       "      <th>...</th>\n",
       "      <td>...</td>\n",
       "      <td>...</td>\n",
       "      <td>...</td>\n",
       "      <td>...</td>\n",
       "      <td>...</td>\n",
       "      <td>...</td>\n",
       "      <td>...</td>\n",
       "      <td>...</td>\n",
       "      <td>...</td>\n",
       "      <td>...</td>\n",
       "      <td>...</td>\n",
       "      <td>...</td>\n",
       "      <td>...</td>\n",
       "      <td>...</td>\n",
       "      <td>...</td>\n",
       "      <td>...</td>\n",
       "    </tr>\n",
       "    <tr>\n",
       "      <th>18249</th>\n",
       "      <td>PseudoBoolean_opt_factor_Pb_factor_S9_P191_Q389</td>\n",
       "      <td>sat4j+default</td>\n",
       "      <td>900.566000</td>\n",
       "      <td>None</td>\n",
       "      <td>UNKNOWN</td>\n",
       "      <td>None</td>\n",
       "      <td>None</td>\n",
       "      <td>PseudoBoolean</td>\n",
       "      <td>None</td>\n",
       "      <td>1200.0</td>\n",
       "      <td>True</td>\n",
       "      <td>True</td>\n",
       "      <td>False</td>\n",
       "      <td>True</td>\n",
       "      <td>True</td>\n",
       "      <td>False</td>\n",
       "    </tr>\n",
       "    <tr>\n",
       "      <th>18402</th>\n",
       "      <td>Rcpsp_m1_j60_Rcpsp_j60_14_07</td>\n",
       "      <td>choco</td>\n",
       "      <td>2.021590</td>\n",
       "      <td>COP</td>\n",
       "      <td>OPTIMUM FOUND</td>\n",
       "      <td>[314, 313, 312, 72, 71, 69]</td>\n",
       "      <td>[1.76, 1.76, 1.76, 1.76, 1.76, 1.76]</td>\n",
       "      <td>Rcpsp</td>\n",
       "      <td>None</td>\n",
       "      <td>1200.0</td>\n",
       "      <td>True</td>\n",
       "      <td>True</td>\n",
       "      <td>False</td>\n",
       "      <td>True</td>\n",
       "      <td>True</td>\n",
       "      <td>False</td>\n",
       "    </tr>\n",
       "    <tr>\n",
       "      <th>18201</th>\n",
       "      <td>Rcpsp_m1_j60_Rcpsp_j60_14_07</td>\n",
       "      <td>cosoco</td>\n",
       "      <td>0.045985</td>\n",
       "      <td>None</td>\n",
       "      <td>OPTIMUM</td>\n",
       "      <td>69</td>\n",
       "      <td>0.003777</td>\n",
       "      <td>Rcpsp</td>\n",
       "      <td>None</td>\n",
       "      <td>1200.0</td>\n",
       "      <td>True</td>\n",
       "      <td>True</td>\n",
       "      <td>False</td>\n",
       "      <td>True</td>\n",
       "      <td>True</td>\n",
       "      <td>False</td>\n",
       "    </tr>\n",
       "    <tr>\n",
       "      <th>18582</th>\n",
       "      <td>Rcpsp_m1_j60_Rcpsp_j60_14_07</td>\n",
       "      <td>ace</td>\n",
       "      <td>7.964840</td>\n",
       "      <td>None</td>\n",
       "      <td>OPTIMUM FOUND</td>\n",
       "      <td>[82, 79, 69]</td>\n",
       "      <td>[1.19, 1.26, 1.34]</td>\n",
       "      <td>Rcpsp</td>\n",
       "      <td>min</td>\n",
       "      <td>1200.0</td>\n",
       "      <td>True</td>\n",
       "      <td>True</td>\n",
       "      <td>False</td>\n",
       "      <td>True</td>\n",
       "      <td>True</td>\n",
       "      <td>False</td>\n",
       "    </tr>\n",
       "    <tr>\n",
       "      <th>18088</th>\n",
       "      <td>Rcpsp_m1_j60_Rcpsp_j60_14_07</td>\n",
       "      <td>sat4j+default</td>\n",
       "      <td>919.919000</td>\n",
       "      <td>None</td>\n",
       "      <td>None</td>\n",
       "      <td>None</td>\n",
       "      <td>None</td>\n",
       "      <td>Rcpsp</td>\n",
       "      <td>None</td>\n",
       "      <td>1200.0</td>\n",
       "      <td>True</td>\n",
       "      <td>True</td>\n",
       "      <td>False</td>\n",
       "      <td>True</td>\n",
       "      <td>True</td>\n",
       "      <td>False</td>\n",
       "    </tr>\n",
       "  </tbody>\n",
       "</table>\n",
       "<p>19088 rows × 16 columns</p>\n",
       "</div>"
      ],
      "text/plain": [
       "                                                 input experiment_ware  \\\n",
       "0                         Rcpsp_m1_j30_Rcpsp_j30_43_02           choco   \n",
       "9745                      Rcpsp_m1_j30_Rcpsp_j30_43_02          cosoco   \n",
       "5079                      Rcpsp_m1_j30_Rcpsp_j30_43_02             ace   \n",
       "1377                      Rcpsp_m1_j30_Rcpsp_j30_43_02   sat4j+default   \n",
       "16164  GraphColoring_m1_mono_GraphColoring_2_fullins_5           choco   \n",
       "...                                                ...             ...   \n",
       "18249  PseudoBoolean_opt_factor_Pb_factor_S9_P191_Q389   sat4j+default   \n",
       "18402                     Rcpsp_m1_j60_Rcpsp_j60_14_07           choco   \n",
       "18201                     Rcpsp_m1_j60_Rcpsp_j60_14_07          cosoco   \n",
       "18582                     Rcpsp_m1_j60_Rcpsp_j60_14_07             ace   \n",
       "18088                     Rcpsp_m1_j60_Rcpsp_j60_14_07   sat4j+default   \n",
       "\n",
       "         cpu_time track         status  \\\n",
       "0        1.326810   COP  OPTIMUM FOUND   \n",
       "9745     0.033937  None        OPTIMUM   \n",
       "5079     2.674830  None  OPTIMUM FOUND   \n",
       "1377   240.661000  None  OPTIMUM FOUND   \n",
       "16164  300.085000   COP    SATISFIABLE   \n",
       "...           ...   ...            ...   \n",
       "18249  900.566000  None        UNKNOWN   \n",
       "18402    2.021590   COP  OPTIMUM FOUND   \n",
       "18201    0.045985  None        OPTIMUM   \n",
       "18582    7.964840  None  OPTIMUM FOUND   \n",
       "18088  919.919000  None           None   \n",
       "\n",
       "                                              bound_list  \\\n",
       "0                                               [44, 43]   \n",
       "9745                                                  43   \n",
       "5079                                    [55, 51, 50, 43]   \n",
       "1377   [143, 131, 129, 116, 115, 108, 107, 106, 105, ...   \n",
       "16164                                                  6   \n",
       "...                                                  ...   \n",
       "18249                                               None   \n",
       "18402                        [314, 313, 312, 72, 71, 69]   \n",
       "18201                                                 69   \n",
       "18582                                       [82, 79, 69]   \n",
       "18088                                               None   \n",
       "\n",
       "                             timestamp_list         family cop.way  timeout  \\\n",
       "0                              [1.12, 1.12]          Rcpsp     NaN   1200.0   \n",
       "9745                               0.000442          Rcpsp    None   1200.0   \n",
       "5079               [0.41, 0.43, 0.43, 0.44]          Rcpsp     min   1200.0   \n",
       "1377                                   None          Rcpsp    None   1200.0   \n",
       "16164                                  5.93  GraphColoring    None   1200.0   \n",
       "...                                     ...            ...     ...      ...   \n",
       "18249                                  None  PseudoBoolean    None   1200.0   \n",
       "18402  [1.76, 1.76, 1.76, 1.76, 1.76, 1.76]          Rcpsp    None   1200.0   \n",
       "18201                              0.003777          Rcpsp    None   1200.0   \n",
       "18582                    [1.19, 1.26, 1.34]          Rcpsp     min   1200.0   \n",
       "18088                                  None          Rcpsp    None   1200.0   \n",
       "\n",
       "       success  user_success  missing  consistent_xp  consistent_input  error  \n",
       "0         True          True    False           True              True  False  \n",
       "9745      True          True    False           True              True  False  \n",
       "5079      True          True    False           True              True  False  \n",
       "1377      True          True    False           True              True  False  \n",
       "16164     True          True    False           True              True  False  \n",
       "...        ...           ...      ...            ...               ...    ...  \n",
       "18249     True          True    False           True              True  False  \n",
       "18402     True          True    False           True              True  False  \n",
       "18201     True          True    False           True              True  False  \n",
       "18582     True          True    False           True              True  False  \n",
       "18088     True          True    False           True              True  False  \n",
       "\n",
       "[19088 rows x 16 columns]"
      ]
     },
     "execution_count": 3,
     "metadata": {},
     "output_type": "execute_result"
    }
   ],
   "source": [
    "analysis.data_frame"
   ]
  },
  {
   "cell_type": "markdown",
   "metadata": {
    "pycharm": {
     "name": "#%% md\n"
    }
   },
   "source": [
    "## More meaningful names for experiment-wares"
   ]
  },
  {
   "cell_type": "markdown",
   "metadata": {
    "pycharm": {
     "name": "#%% md\n"
    }
   },
   "source": [
    "Currently, the names of the experiment-wares correspond to those extracted by *Metrics-Scalpel*.\n",
    "While they are sufficient to discriminate them in the analysis, they are not necessarily meaningful.\n",
    "It is possible to replace them by more descriptive names, that may even contain LaTeX code if you want pretty names in your papers."
   ]
  },
  {
   "cell_type": "code",
   "execution_count": 4,
   "metadata": {
    "pycharm": {
     "name": "#%%\n"
    }
   },
   "outputs": [],
   "source": [
    "name_map = {\n",
    "    'ace': '$ACE$',\n",
    "    'choco': '$Choco$',\n",
    "    'cosoco': '$Cosoco$',\n",
    "    'sat4j+default': '$Sat4j_{default}$',\n",
    "}"
   ]
  },
  {
   "cell_type": "markdown",
   "metadata": {
    "pycharm": {
     "name": "#%% md\n"
    }
   },
   "source": [
    "Based on the map above, we can easily replace the name of the experiment-wares as follows."
   ]
  },
  {
   "cell_type": "code",
   "execution_count": 5,
   "metadata": {
    "pycharm": {
     "name": "#%%\n"
    }
   },
   "outputs": [],
   "source": [
    "analysis = analysis.add_variable(\n",
    "    new_var='experiment_ware',\n",
    "    function=lambda xp: name_map[xp['experiment_ware']]\n",
    ")"
   ]
  },
  {
   "cell_type": "markdown",
   "metadata": {},
   "source": [
    "## General data preprocessing"
   ]
  },
  {
   "cell_type": "markdown",
   "metadata": {},
   "source": [
    "The first step is to fix the status that `Cosoco` outputs.\n",
    "Indeed, where `OPTIMUM FOUND` is expected, `Cosoco` only writes `OPTIMUM`."
   ]
  },
  {
   "cell_type": "code",
   "execution_count": 6,
   "metadata": {},
   "outputs": [],
   "source": [
    "analysis = analysis.add_variable(\n",
    "    new_var='status',\n",
    "    function=lambda xp: 'OPTIMUM FOUND' if xp['status'] == 'OPTIMUM' else xp['status']\n",
    ")"
   ]
  },
  {
   "cell_type": "markdown",
   "metadata": {},
   "source": [
    "Then, to know whether the input problem is a minimization or maximization problem, we must consider the column `cop.way`, but it is only provided by `ACE`.\n",
    "The function below allows to retrieve this information from the analysis."
   ]
  },
  {
   "cell_type": "code",
   "execution_count": 7,
   "metadata": {},
   "outputs": [],
   "source": [
    "def extract_min_or_max(xp):\n",
    "    \"\"\"\n",
    "    Retrieves from the analysis the type of optimization problem corresponding\n",
    "    to the given input.\n",
    "\n",
    "    :param xp: The experiment to determine the type of.\n",
    "    \"\"\"\n",
    "    df = analysis.data_frame\n",
    "    for way in df[df['input'] == xp['input']]['cop.way'].unique():\n",
    "        if not isnull(way):\n",
    "            return way\n",
    "    return None"
   ]
  },
  {
   "cell_type": "markdown",
   "metadata": {},
   "source": [
    "We can now apply the function above to associate any experiment to its associated objective type."
   ]
  },
  {
   "cell_type": "code",
   "execution_count": 8,
   "metadata": {},
   "outputs": [],
   "source": [
    "analysis = analysis.add_variable(\n",
    "    new_var='objective',\n",
    "    function=extract_min_or_max\n",
    ")"
   ]
  },
  {
   "cell_type": "markdown",
   "metadata": {},
   "source": [
    "To make easier the manipulation of the data related to the experiments, we add a new variable to represent the best value found by the solvers."
   ]
  },
  {
   "cell_type": "code",
   "execution_count": 9,
   "metadata": {},
   "outputs": [],
   "source": [
    "def extract_best_value(xp):\n",
    "    \"\"\"\n",
    "    Extracts the best value found by the solver.\n",
    "    By construction, it is necessarily the latest one.\n",
    "    \n",
    "    :param xp: The experiment to determine the best bound of.\n",
    "    \"\"\"\n",
    "    if isinstance(xp['bound_list'], list):\n",
    "        # Several values were found, the best one is the latest.\n",
    "        return xp['bound_list'][-1]\n",
    "    if not isnull(xp['bound_list']):\n",
    "        # Only one value was found, it is necessarily the best.\n",
    "        return int(xp['bound_list'])\n",
    "    # No values were found.\n",
    "    return None"
   ]
  },
  {
   "cell_type": "markdown",
   "metadata": {},
   "source": [
    "We now use this function to define a new variable in the analysis."
   ]
  },
  {
   "cell_type": "code",
   "execution_count": 10,
   "metadata": {},
   "outputs": [],
   "source": [
    "analysis = analysis.add_variable(\n",
    "    new_var='best_bound',\n",
    "    function=extract_best_value\n",
    ").add_variable(\n",
    "    new_var='optimum',\n",
    "    function=lambda xp: xp['best_bound'] if xp['status'] == 'OPTIMUM FOUND' else None\n",
    ")"
   ]
  },
  {
   "cell_type": "markdown",
   "metadata": {},
   "source": [
    "We can now check in the data-frame whether all the changes made in this section have been properly applied to the collected data."
   ]
  },
  {
   "cell_type": "code",
   "execution_count": 11,
   "metadata": {},
   "outputs": [
    {
     "data": {
      "text/html": [
       "<div>\n",
       "<style scoped>\n",
       "    .dataframe tbody tr th:only-of-type {\n",
       "        vertical-align: middle;\n",
       "    }\n",
       "\n",
       "    .dataframe tbody tr th {\n",
       "        vertical-align: top;\n",
       "    }\n",
       "\n",
       "    .dataframe thead th {\n",
       "        text-align: right;\n",
       "    }\n",
       "</style>\n",
       "<table border=\"1\" class=\"dataframe\">\n",
       "  <thead>\n",
       "    <tr style=\"text-align: right;\">\n",
       "      <th></th>\n",
       "      <th>input</th>\n",
       "      <th>experiment_ware</th>\n",
       "      <th>cpu_time</th>\n",
       "      <th>track</th>\n",
       "      <th>status</th>\n",
       "      <th>bound_list</th>\n",
       "      <th>timestamp_list</th>\n",
       "      <th>family</th>\n",
       "      <th>cop.way</th>\n",
       "      <th>timeout</th>\n",
       "      <th>success</th>\n",
       "      <th>user_success</th>\n",
       "      <th>missing</th>\n",
       "      <th>consistent_xp</th>\n",
       "      <th>consistent_input</th>\n",
       "      <th>error</th>\n",
       "      <th>objective</th>\n",
       "      <th>best_bound</th>\n",
       "      <th>optimum</th>\n",
       "    </tr>\n",
       "  </thead>\n",
       "  <tbody>\n",
       "    <tr>\n",
       "      <th>0</th>\n",
       "      <td>Rcpsp_m1_j30_Rcpsp_j30_43_02</td>\n",
       "      <td>$Choco$</td>\n",
       "      <td>1.326810</td>\n",
       "      <td>COP</td>\n",
       "      <td>OPTIMUM FOUND</td>\n",
       "      <td>[44, 43]</td>\n",
       "      <td>[1.12, 1.12]</td>\n",
       "      <td>Rcpsp</td>\n",
       "      <td>NaN</td>\n",
       "      <td>1200.0</td>\n",
       "      <td>True</td>\n",
       "      <td>True</td>\n",
       "      <td>False</td>\n",
       "      <td>True</td>\n",
       "      <td>True</td>\n",
       "      <td>False</td>\n",
       "      <td>min</td>\n",
       "      <td>43.0</td>\n",
       "      <td>43.0</td>\n",
       "    </tr>\n",
       "    <tr>\n",
       "      <th>9745</th>\n",
       "      <td>Rcpsp_m1_j30_Rcpsp_j30_43_02</td>\n",
       "      <td>$Cosoco$</td>\n",
       "      <td>0.033937</td>\n",
       "      <td>None</td>\n",
       "      <td>OPTIMUM FOUND</td>\n",
       "      <td>43</td>\n",
       "      <td>0.000442</td>\n",
       "      <td>Rcpsp</td>\n",
       "      <td>None</td>\n",
       "      <td>1200.0</td>\n",
       "      <td>True</td>\n",
       "      <td>True</td>\n",
       "      <td>False</td>\n",
       "      <td>True</td>\n",
       "      <td>True</td>\n",
       "      <td>False</td>\n",
       "      <td>min</td>\n",
       "      <td>43.0</td>\n",
       "      <td>43.0</td>\n",
       "    </tr>\n",
       "    <tr>\n",
       "      <th>5079</th>\n",
       "      <td>Rcpsp_m1_j30_Rcpsp_j30_43_02</td>\n",
       "      <td>$ACE$</td>\n",
       "      <td>2.674830</td>\n",
       "      <td>None</td>\n",
       "      <td>OPTIMUM FOUND</td>\n",
       "      <td>[55, 51, 50, 43]</td>\n",
       "      <td>[0.41, 0.43, 0.43, 0.44]</td>\n",
       "      <td>Rcpsp</td>\n",
       "      <td>min</td>\n",
       "      <td>1200.0</td>\n",
       "      <td>True</td>\n",
       "      <td>True</td>\n",
       "      <td>False</td>\n",
       "      <td>True</td>\n",
       "      <td>True</td>\n",
       "      <td>False</td>\n",
       "      <td>min</td>\n",
       "      <td>43.0</td>\n",
       "      <td>43.0</td>\n",
       "    </tr>\n",
       "    <tr>\n",
       "      <th>1377</th>\n",
       "      <td>Rcpsp_m1_j30_Rcpsp_j30_43_02</td>\n",
       "      <td>$Sat4j_{default}$</td>\n",
       "      <td>240.661000</td>\n",
       "      <td>None</td>\n",
       "      <td>OPTIMUM FOUND</td>\n",
       "      <td>[143, 131, 129, 116, 115, 108, 107, 106, 105, ...</td>\n",
       "      <td>None</td>\n",
       "      <td>Rcpsp</td>\n",
       "      <td>None</td>\n",
       "      <td>1200.0</td>\n",
       "      <td>True</td>\n",
       "      <td>True</td>\n",
       "      <td>False</td>\n",
       "      <td>True</td>\n",
       "      <td>True</td>\n",
       "      <td>False</td>\n",
       "      <td>min</td>\n",
       "      <td>43.0</td>\n",
       "      <td>43.0</td>\n",
       "    </tr>\n",
       "    <tr>\n",
       "      <th>16164</th>\n",
       "      <td>GraphColoring_m1_mono_GraphColoring_2_fullins_5</td>\n",
       "      <td>$Choco$</td>\n",
       "      <td>300.085000</td>\n",
       "      <td>COP</td>\n",
       "      <td>SATISFIABLE</td>\n",
       "      <td>6</td>\n",
       "      <td>5.93</td>\n",
       "      <td>GraphColoring</td>\n",
       "      <td>None</td>\n",
       "      <td>1200.0</td>\n",
       "      <td>True</td>\n",
       "      <td>True</td>\n",
       "      <td>False</td>\n",
       "      <td>True</td>\n",
       "      <td>True</td>\n",
       "      <td>False</td>\n",
       "      <td>min</td>\n",
       "      <td>6.0</td>\n",
       "      <td>NaN</td>\n",
       "    </tr>\n",
       "    <tr>\n",
       "      <th>...</th>\n",
       "      <td>...</td>\n",
       "      <td>...</td>\n",
       "      <td>...</td>\n",
       "      <td>...</td>\n",
       "      <td>...</td>\n",
       "      <td>...</td>\n",
       "      <td>...</td>\n",
       "      <td>...</td>\n",
       "      <td>...</td>\n",
       "      <td>...</td>\n",
       "      <td>...</td>\n",
       "      <td>...</td>\n",
       "      <td>...</td>\n",
       "      <td>...</td>\n",
       "      <td>...</td>\n",
       "      <td>...</td>\n",
       "      <td>...</td>\n",
       "      <td>...</td>\n",
       "      <td>...</td>\n",
       "    </tr>\n",
       "    <tr>\n",
       "      <th>18249</th>\n",
       "      <td>PseudoBoolean_opt_factor_Pb_factor_S9_P191_Q389</td>\n",
       "      <td>$Sat4j_{default}$</td>\n",
       "      <td>900.566000</td>\n",
       "      <td>None</td>\n",
       "      <td>UNKNOWN</td>\n",
       "      <td>None</td>\n",
       "      <td>None</td>\n",
       "      <td>PseudoBoolean</td>\n",
       "      <td>None</td>\n",
       "      <td>1200.0</td>\n",
       "      <td>True</td>\n",
       "      <td>True</td>\n",
       "      <td>False</td>\n",
       "      <td>True</td>\n",
       "      <td>True</td>\n",
       "      <td>False</td>\n",
       "      <td>min</td>\n",
       "      <td>NaN</td>\n",
       "      <td>NaN</td>\n",
       "    </tr>\n",
       "    <tr>\n",
       "      <th>18402</th>\n",
       "      <td>Rcpsp_m1_j60_Rcpsp_j60_14_07</td>\n",
       "      <td>$Choco$</td>\n",
       "      <td>2.021590</td>\n",
       "      <td>COP</td>\n",
       "      <td>OPTIMUM FOUND</td>\n",
       "      <td>[314, 313, 312, 72, 71, 69]</td>\n",
       "      <td>[1.76, 1.76, 1.76, 1.76, 1.76, 1.76]</td>\n",
       "      <td>Rcpsp</td>\n",
       "      <td>None</td>\n",
       "      <td>1200.0</td>\n",
       "      <td>True</td>\n",
       "      <td>True</td>\n",
       "      <td>False</td>\n",
       "      <td>True</td>\n",
       "      <td>True</td>\n",
       "      <td>False</td>\n",
       "      <td>min</td>\n",
       "      <td>69.0</td>\n",
       "      <td>69.0</td>\n",
       "    </tr>\n",
       "    <tr>\n",
       "      <th>18201</th>\n",
       "      <td>Rcpsp_m1_j60_Rcpsp_j60_14_07</td>\n",
       "      <td>$Cosoco$</td>\n",
       "      <td>0.045985</td>\n",
       "      <td>None</td>\n",
       "      <td>OPTIMUM FOUND</td>\n",
       "      <td>69</td>\n",
       "      <td>0.003777</td>\n",
       "      <td>Rcpsp</td>\n",
       "      <td>None</td>\n",
       "      <td>1200.0</td>\n",
       "      <td>True</td>\n",
       "      <td>True</td>\n",
       "      <td>False</td>\n",
       "      <td>True</td>\n",
       "      <td>True</td>\n",
       "      <td>False</td>\n",
       "      <td>min</td>\n",
       "      <td>69.0</td>\n",
       "      <td>69.0</td>\n",
       "    </tr>\n",
       "    <tr>\n",
       "      <th>18582</th>\n",
       "      <td>Rcpsp_m1_j60_Rcpsp_j60_14_07</td>\n",
       "      <td>$ACE$</td>\n",
       "      <td>7.964840</td>\n",
       "      <td>None</td>\n",
       "      <td>OPTIMUM FOUND</td>\n",
       "      <td>[82, 79, 69]</td>\n",
       "      <td>[1.19, 1.26, 1.34]</td>\n",
       "      <td>Rcpsp</td>\n",
       "      <td>min</td>\n",
       "      <td>1200.0</td>\n",
       "      <td>True</td>\n",
       "      <td>True</td>\n",
       "      <td>False</td>\n",
       "      <td>True</td>\n",
       "      <td>True</td>\n",
       "      <td>False</td>\n",
       "      <td>min</td>\n",
       "      <td>69.0</td>\n",
       "      <td>69.0</td>\n",
       "    </tr>\n",
       "    <tr>\n",
       "      <th>18088</th>\n",
       "      <td>Rcpsp_m1_j60_Rcpsp_j60_14_07</td>\n",
       "      <td>$Sat4j_{default}$</td>\n",
       "      <td>919.919000</td>\n",
       "      <td>None</td>\n",
       "      <td>None</td>\n",
       "      <td>None</td>\n",
       "      <td>None</td>\n",
       "      <td>Rcpsp</td>\n",
       "      <td>None</td>\n",
       "      <td>1200.0</td>\n",
       "      <td>True</td>\n",
       "      <td>True</td>\n",
       "      <td>False</td>\n",
       "      <td>True</td>\n",
       "      <td>True</td>\n",
       "      <td>False</td>\n",
       "      <td>min</td>\n",
       "      <td>NaN</td>\n",
       "      <td>NaN</td>\n",
       "    </tr>\n",
       "  </tbody>\n",
       "</table>\n",
       "<p>19088 rows × 19 columns</p>\n",
       "</div>"
      ],
      "text/plain": [
       "                                                 input    experiment_ware  \\\n",
       "0                         Rcpsp_m1_j30_Rcpsp_j30_43_02            $Choco$   \n",
       "9745                      Rcpsp_m1_j30_Rcpsp_j30_43_02           $Cosoco$   \n",
       "5079                      Rcpsp_m1_j30_Rcpsp_j30_43_02              $ACE$   \n",
       "1377                      Rcpsp_m1_j30_Rcpsp_j30_43_02  $Sat4j_{default}$   \n",
       "16164  GraphColoring_m1_mono_GraphColoring_2_fullins_5            $Choco$   \n",
       "...                                                ...                ...   \n",
       "18249  PseudoBoolean_opt_factor_Pb_factor_S9_P191_Q389  $Sat4j_{default}$   \n",
       "18402                     Rcpsp_m1_j60_Rcpsp_j60_14_07            $Choco$   \n",
       "18201                     Rcpsp_m1_j60_Rcpsp_j60_14_07           $Cosoco$   \n",
       "18582                     Rcpsp_m1_j60_Rcpsp_j60_14_07              $ACE$   \n",
       "18088                     Rcpsp_m1_j60_Rcpsp_j60_14_07  $Sat4j_{default}$   \n",
       "\n",
       "         cpu_time track         status  \\\n",
       "0        1.326810   COP  OPTIMUM FOUND   \n",
       "9745     0.033937  None  OPTIMUM FOUND   \n",
       "5079     2.674830  None  OPTIMUM FOUND   \n",
       "1377   240.661000  None  OPTIMUM FOUND   \n",
       "16164  300.085000   COP    SATISFIABLE   \n",
       "...           ...   ...            ...   \n",
       "18249  900.566000  None        UNKNOWN   \n",
       "18402    2.021590   COP  OPTIMUM FOUND   \n",
       "18201    0.045985  None  OPTIMUM FOUND   \n",
       "18582    7.964840  None  OPTIMUM FOUND   \n",
       "18088  919.919000  None           None   \n",
       "\n",
       "                                              bound_list  \\\n",
       "0                                               [44, 43]   \n",
       "9745                                                  43   \n",
       "5079                                    [55, 51, 50, 43]   \n",
       "1377   [143, 131, 129, 116, 115, 108, 107, 106, 105, ...   \n",
       "16164                                                  6   \n",
       "...                                                  ...   \n",
       "18249                                               None   \n",
       "18402                        [314, 313, 312, 72, 71, 69]   \n",
       "18201                                                 69   \n",
       "18582                                       [82, 79, 69]   \n",
       "18088                                               None   \n",
       "\n",
       "                             timestamp_list         family cop.way  timeout  \\\n",
       "0                              [1.12, 1.12]          Rcpsp     NaN   1200.0   \n",
       "9745                               0.000442          Rcpsp    None   1200.0   \n",
       "5079               [0.41, 0.43, 0.43, 0.44]          Rcpsp     min   1200.0   \n",
       "1377                                   None          Rcpsp    None   1200.0   \n",
       "16164                                  5.93  GraphColoring    None   1200.0   \n",
       "...                                     ...            ...     ...      ...   \n",
       "18249                                  None  PseudoBoolean    None   1200.0   \n",
       "18402  [1.76, 1.76, 1.76, 1.76, 1.76, 1.76]          Rcpsp    None   1200.0   \n",
       "18201                              0.003777          Rcpsp    None   1200.0   \n",
       "18582                    [1.19, 1.26, 1.34]          Rcpsp     min   1200.0   \n",
       "18088                                  None          Rcpsp    None   1200.0   \n",
       "\n",
       "       success  user_success  missing  consistent_xp  consistent_input  error  \\\n",
       "0         True          True    False           True              True  False   \n",
       "9745      True          True    False           True              True  False   \n",
       "5079      True          True    False           True              True  False   \n",
       "1377      True          True    False           True              True  False   \n",
       "16164     True          True    False           True              True  False   \n",
       "...        ...           ...      ...            ...               ...    ...   \n",
       "18249     True          True    False           True              True  False   \n",
       "18402     True          True    False           True              True  False   \n",
       "18201     True          True    False           True              True  False   \n",
       "18582     True          True    False           True              True  False   \n",
       "18088     True          True    False           True              True  False   \n",
       "\n",
       "      objective  best_bound  optimum  \n",
       "0           min        43.0     43.0  \n",
       "9745        min        43.0     43.0  \n",
       "5079        min        43.0     43.0  \n",
       "1377        min        43.0     43.0  \n",
       "16164       min         6.0      NaN  \n",
       "...         ...         ...      ...  \n",
       "18249       min         NaN      NaN  \n",
       "18402       min        69.0     69.0  \n",
       "18201       min        69.0     69.0  \n",
       "18582       min        69.0     69.0  \n",
       "18088       min         NaN      NaN  \n",
       "\n",
       "[19088 rows x 19 columns]"
      ]
     },
     "execution_count": 11,
     "metadata": {},
     "output_type": "execute_result"
    }
   ],
   "source": [
    "analysis.data_frame"
   ]
  },
  {
   "cell_type": "markdown",
   "metadata": {
    "pycharm": {
     "name": "#%% md\n"
    }
   },
   "source": [
    "## Checking the success and consistency of the results"
   ]
  },
  {
   "cell_type": "markdown",
   "metadata": {
    "pycharm": {
     "name": "#%% md\n"
    }
   },
   "source": [
    "During our analysis, we will need to know whether a given experiment was successful.\n",
    "As an example, we provide below the code to check the success of an optimization solver."
   ]
  },
  {
   "cell_type": "code",
   "execution_count": 12,
   "metadata": {
    "pycharm": {
     "name": "#%%\n"
    }
   },
   "outputs": [],
   "source": [
    "def is_success(xp):\n",
    "    \"\"\"\n",
    "    This function checks that a solver either proved the optimality of its best\n",
    "    bound within the time limit, or proved the input to be unsatisfiable.\n",
    "\n",
    "    :param xp: The experiment to determine the best bound of.\n",
    "    \"\"\"\n",
    "    return xp['status'] == 'OPTIMUM FOUND' or xp['status'] == 'UNSATISFIABLE'"
   ]
  },
  {
   "cell_type": "markdown",
   "metadata": {
    "pycharm": {
     "name": "#%% md\n"
    }
   },
   "source": [
    "To make sure that our experiments are consistent, we also need to compare the results obtained by the different experiment-wares.\n",
    "As an example, we provide below the code to check that if different optimization solvers claim to have found an optimal value, this value must be the same for all solvers."
   ]
  },
  {
   "cell_type": "code",
   "execution_count": 13,
   "metadata": {
    "pycharm": {
     "name": "#%%\n"
    },
    "scrolled": true
   },
   "outputs": [],
   "source": [
    "def is_consistent_by_input(df_input):\n",
    "    \"\"\"\n",
    "    This function checks that the pairwise comparison between two different\n",
    "    optimal bounds found on the same input is small enough to consider these bounds as consistent.\n",
    "    \"\"\"\n",
    "    # Checking the decision of the solvers.\n",
    "    decisions = df_input['decision'].unique()\n",
    "    if 'OPTIMUM FOUND' in decisions and 'UNSATISFIABLE' in decisions:\n",
    "        # A solver has found an optimal solution while another proved unsatisfiability.\n",
    "        return False\n",
    "    if 'SATISFIABLE' in decisions and 'UNSATISFIABLE' in decisions:\n",
    "        # A solver has found a solution while another proved unsatisfiability.\n",
    "        return False\n",
    "\n",
    "    # Checking that at most one optimal value exists.\n",
    "    best_values_for_complete_search = df_input[df_input['success']]['best_bound'].unique()\n",
    "\n",
    "    # Checking if the \"proved\" best bound is less optimal than another non-optimal bound\n",
    "    if df_input['objective'].unique()[0] == 'min': # in the case of minimization\n",
    "        best_global_value = df_input['best_bound'].min()\n",
    "    else: # in the case of maximization\n",
    "        best_global_value = df_input['best_bound'].max()\n",
    "\n",
    "\n",
    "    # Checking \n",
    "    return best_global_value is None or \\\n",
    "           len(best_values_for_complete_search) <= 1 and \\\n",
    "           best_values_for_complete_search[0] != best_global_value\n",
    "        "
   ]
  },
  {
   "cell_type": "markdown",
   "metadata": {
    "pycharm": {
     "name": "#%% md\n"
    }
   },
   "source": [
    "We can now use the functions above to check the consistency of the different experiments in the analysis."
   ]
  },
  {
   "cell_type": "code",
   "execution_count": 14,
   "metadata": {
    "pycharm": {
     "name": "#%%\n"
    },
    "scrolled": true
   },
   "outputs": [],
   "source": [
    "analysis.check_success(is_success)\n",
    "analysis.check_input_consistency(is_consistent_by_input)"
   ]
  },
  {
   "cell_type": "markdown",
   "metadata": {
    "pycharm": {
     "name": "#%% md\n"
    }
   },
   "source": [
    "There is no warning raised when checking the consistency of the results, and the table below is empty, so there is apparently no consistency issues with our experiments."
   ]
  },
  {
   "cell_type": "code",
   "execution_count": 15,
   "metadata": {
    "pycharm": {
     "name": "#%%\n"
    }
   },
   "outputs": [
    {
     "data": {
      "text/html": [
       "<div>\n",
       "<style scoped>\n",
       "    .dataframe tbody tr th:only-of-type {\n",
       "        vertical-align: middle;\n",
       "    }\n",
       "\n",
       "    .dataframe tbody tr th {\n",
       "        vertical-align: top;\n",
       "    }\n",
       "\n",
       "    .dataframe thead th {\n",
       "        text-align: right;\n",
       "    }\n",
       "</style>\n",
       "<table border=\"1\" class=\"dataframe\">\n",
       "  <thead>\n",
       "    <tr style=\"text-align: right;\">\n",
       "      <th></th>\n",
       "      <th>input</th>\n",
       "      <th>experiment_ware</th>\n",
       "      <th>cpu_time</th>\n",
       "      <th>track</th>\n",
       "      <th>status</th>\n",
       "      <th>bound_list</th>\n",
       "      <th>timestamp_list</th>\n",
       "      <th>family</th>\n",
       "      <th>cop.way</th>\n",
       "      <th>timeout</th>\n",
       "      <th>success</th>\n",
       "      <th>user_success</th>\n",
       "      <th>missing</th>\n",
       "      <th>consistent_xp</th>\n",
       "      <th>consistent_input</th>\n",
       "      <th>error</th>\n",
       "      <th>objective</th>\n",
       "      <th>best_bound</th>\n",
       "      <th>optimum</th>\n",
       "    </tr>\n",
       "  </thead>\n",
       "  <tbody>\n",
       "  </tbody>\n",
       "</table>\n",
       "</div>"
      ],
      "text/plain": [
       "Empty DataFrame\n",
       "Columns: [input, experiment_ware, cpu_time, track, status, bound_list, timestamp_list, family, cop.way, timeout, success, user_success, missing, consistent_xp, consistent_input, error, objective, best_bound, optimum]\n",
       "Index: []"
      ]
     },
     "execution_count": 15,
     "metadata": {},
     "output_type": "execute_result"
    }
   ],
   "source": [
    "analysis.error_table()"
   ]
  },
  {
   "cell_type": "markdown",
   "metadata": {
    "pycharm": {
     "name": "#%% md\n"
    }
   },
   "source": [
    "## Summary and export of the analysis"
   ]
  },
  {
   "cell_type": "markdown",
   "metadata": {
    "pycharm": {
     "name": "#%% md\n"
    }
   },
   "source": [
    "We can now give a summary of the analysis, that we obtain through the following table."
   ]
  },
  {
   "cell_type": "code",
   "execution_count": 16,
   "metadata": {
    "pycharm": {
     "name": "#%%\n"
    },
    "scrolled": true
   },
   "outputs": [
    {
     "data": {
      "text/html": [
       "<div>\n",
       "<style scoped>\n",
       "    .dataframe tbody tr th:only-of-type {\n",
       "        vertical-align: middle;\n",
       "    }\n",
       "\n",
       "    .dataframe tbody tr th {\n",
       "        vertical-align: top;\n",
       "    }\n",
       "\n",
       "    .dataframe thead th {\n",
       "        text-align: right;\n",
       "    }\n",
       "</style>\n",
       "<table border=\"1\" class=\"dataframe\">\n",
       "  <thead>\n",
       "    <tr style=\"text-align: right;\">\n",
       "      <th></th>\n",
       "      <th>analysis</th>\n",
       "    </tr>\n",
       "  </thead>\n",
       "  <tbody>\n",
       "    <tr>\n",
       "      <th>n_experiment_wares</th>\n",
       "      <td>4</td>\n",
       "    </tr>\n",
       "    <tr>\n",
       "      <th>n_inputs</th>\n",
       "      <td>4772</td>\n",
       "    </tr>\n",
       "    <tr>\n",
       "      <th>n_experiments</th>\n",
       "      <td>19088</td>\n",
       "    </tr>\n",
       "    <tr>\n",
       "      <th>n_missing_xp</th>\n",
       "      <td>0</td>\n",
       "    </tr>\n",
       "    <tr>\n",
       "      <th>n_inconsistent_xp</th>\n",
       "      <td>0</td>\n",
       "    </tr>\n",
       "    <tr>\n",
       "      <th>n_inconsistent_xp_due_to_input</th>\n",
       "      <td>0</td>\n",
       "    </tr>\n",
       "    <tr>\n",
       "      <th>more_info_about_variables</th>\n",
       "      <td>&lt;analysis&gt;.data_frame.describe(include='all')</td>\n",
       "    </tr>\n",
       "  </tbody>\n",
       "</table>\n",
       "</div>"
      ],
      "text/plain": [
       "                                                                     analysis\n",
       "n_experiment_wares                                                          4\n",
       "n_inputs                                                                 4772\n",
       "n_experiments                                                           19088\n",
       "n_missing_xp                                                                0\n",
       "n_inconsistent_xp                                                           0\n",
       "n_inconsistent_xp_due_to_input                                              0\n",
       "more_info_about_variables       <analysis>.data_frame.describe(include='all')"
      ]
     },
     "execution_count": 16,
     "metadata": {},
     "output_type": "execute_result"
    }
   ],
   "source": [
    "analysis.description_table()"
   ]
  },
  {
   "cell_type": "markdown",
   "metadata": {
    "pycharm": {
     "name": "#%% md\n"
    }
   },
   "source": [
    "Finally, the analysis is exported, both to share the data to allow the reproducibility of the analysis, and to reuse it in other notebooks dedicated to more specific analyses."
   ]
  },
  {
   "cell_type": "code",
   "execution_count": 17,
   "metadata": {
    "ExecuteTime": {
     "end_time": "2021-11-07T17:31:00.310070Z",
     "start_time": "2021-11-07T17:31:00.293572Z"
    },
    "pycharm": {
     "name": "#%%\n"
    }
   },
   "outputs": [],
   "source": [
    "analysis.export('.cache')"
   ]
  }
 ],
 "metadata": {
  "interpreter": {
   "hash": "31f2aee4e71d21fbe5cf8b01ff0e069b9275f58929596ceb00d14d90e3e16cd6"
  },
  "kernelspec": {
   "display_name": "Python 3 (ipykernel)",
   "language": "python",
   "name": "python3"
  },
  "language_info": {
   "codemirror_mode": {
    "name": "ipython",
    "version": 3
   },
   "file_extension": ".py",
   "mimetype": "text/x-python",
   "name": "python",
   "nbconvert_exporter": "python",
   "pygments_lexer": "ipython3",
   "version": "3.9.9"
  },
  "latex_envs": {
   "LaTeX_envs_menu_present": true,
   "autoclose": false,
   "autocomplete": true,
   "bibliofile": "biblio.bib",
   "cite_by": "apalike",
   "current_citInitial": 1,
   "eqLabelWithNumbers": true,
   "eqNumInitial": 1,
   "hotkeys": {
    "equation": "Ctrl-E",
    "itemize": "Ctrl-I"
   },
   "labels_anchors": false,
   "latex_user_defs": false,
   "report_style_numbering": false,
   "user_envs_cfg": false
  },
  "toc": {
   "base_numbering": 1,
   "nav_menu": {},
   "number_sections": true,
   "sideBar": true,
   "skip_h1_title": false,
   "title_cell": "Table of Contents",
   "title_sidebar": "Contents",
   "toc_cell": false,
   "toc_position": {},
   "toc_section_display": true,
   "toc_window_display": false
  }
 },
 "nbformat": 4,
 "nbformat_minor": 4
}
